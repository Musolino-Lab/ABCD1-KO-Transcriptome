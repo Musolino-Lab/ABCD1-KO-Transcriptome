{
 "cells": [
  {
   "cell_type": "markdown",
   "metadata": {},
   "source": [
    "# OmicsIntegrator2 on Human Transcription Data"
   ]
  },
  {
   "cell_type": "markdown",
   "metadata": {},
   "source": [
    "## I. Prepare prizes"
   ]
  },
  {
   "cell_type": "code",
   "execution_count": 1,
   "metadata": {},
   "outputs": [],
   "source": [
    "%matplotlib inline\n",
    "import numpy as np\n",
    "import pandas as pd"
   ]
  },
  {
   "cell_type": "code",
   "execution_count": 2,
   "metadata": {},
   "outputs": [
    {
     "data": {
      "text/html": [
       "<div>\n",
       "<style scoped>\n",
       "    .dataframe tbody tr th:only-of-type {\n",
       "        vertical-align: middle;\n",
       "    }\n",
       "\n",
       "    .dataframe tbody tr th {\n",
       "        vertical-align: top;\n",
       "    }\n",
       "\n",
       "    .dataframe thead th {\n",
       "        text-align: right;\n",
       "    }\n",
       "</style>\n",
       "<table border=\"1\" class=\"dataframe\">\n",
       "  <thead>\n",
       "    <tr style=\"text-align: right;\">\n",
       "      <th></th>\n",
       "      <th>Base_Mean</th>\n",
       "      <th>log2FC</th>\n",
       "      <th>StdErr</th>\n",
       "      <th>Wald_Stats</th>\n",
       "      <th>P_value</th>\n",
       "      <th>P_adj</th>\n",
       "    </tr>\n",
       "  </thead>\n",
       "  <tbody>\n",
       "    <tr>\n",
       "      <th>ABCD1</th>\n",
       "      <td>206.706956</td>\n",
       "      <td>2.835321</td>\n",
       "      <td>0.183205</td>\n",
       "      <td>15.476223</td>\n",
       "      <td>5.020961e-54</td>\n",
       "      <td>1.648218e-52</td>\n",
       "    </tr>\n",
       "    <tr>\n",
       "      <th>TGFB1</th>\n",
       "      <td>459.067424</td>\n",
       "      <td>-2.181096</td>\n",
       "      <td>0.116899</td>\n",
       "      <td>-18.657899</td>\n",
       "      <td>1.089306e-77</td>\n",
       "      <td>5.673349e-76</td>\n",
       "    </tr>\n",
       "    <tr>\n",
       "      <th>TAGLN2</th>\n",
       "      <td>3702.951794</td>\n",
       "      <td>2.954344</td>\n",
       "      <td>0.056286</td>\n",
       "      <td>52.488180</td>\n",
       "      <td>0.000000e+00</td>\n",
       "      <td>0.000000e+00</td>\n",
       "    </tr>\n",
       "    <tr>\n",
       "      <th>UHMK1</th>\n",
       "      <td>3543.839403</td>\n",
       "      <td>3.225018</td>\n",
       "      <td>0.067672</td>\n",
       "      <td>47.656533</td>\n",
       "      <td>0.000000e+00</td>\n",
       "      <td>0.000000e+00</td>\n",
       "    </tr>\n",
       "    <tr>\n",
       "      <th>CSRP1</th>\n",
       "      <td>4592.587776</td>\n",
       "      <td>-1.856967</td>\n",
       "      <td>0.046232</td>\n",
       "      <td>-40.165842</td>\n",
       "      <td>0.000000e+00</td>\n",
       "      <td>0.000000e+00</td>\n",
       "    </tr>\n",
       "  </tbody>\n",
       "</table>\n",
       "</div>"
      ],
      "text/plain": [
       "          Base_Mean    log2FC    StdErr  Wald_Stats       P_value  \\\n",
       "ABCD1    206.706956  2.835321  0.183205   15.476223  5.020961e-54   \n",
       "TGFB1    459.067424 -2.181096  0.116899  -18.657899  1.089306e-77   \n",
       "TAGLN2  3702.951794  2.954344  0.056286   52.488180  0.000000e+00   \n",
       "UHMK1   3543.839403  3.225018  0.067672   47.656533  0.000000e+00   \n",
       "CSRP1   4592.587776 -1.856967  0.046232  -40.165842  0.000000e+00   \n",
       "\n",
       "               P_adj  \n",
       "ABCD1   1.648218e-52  \n",
       "TGFB1   5.673349e-76  \n",
       "TAGLN2  0.000000e+00  \n",
       "UHMK1   0.000000e+00  \n",
       "CSRP1   0.000000e+00  "
      ]
     },
     "execution_count": 2,
     "metadata": {},
     "output_type": "execute_result"
    }
   ],
   "source": [
    "NUM = 500\n",
    "human = pd.read_csv('../data/Yamuna/Human_NT_vs_ABCD1_DESeq2_results.tsv', sep='\\t', header=None, names=['GeneID','Base_Mean','log2FC','StdErr','Wald_Stats','P_value','P_adj'])\n",
    "human = pd.concat([human.set_index('GeneID').rename_axis(None).loc[['ABCD1', 'TGFB1']], human.set_index('GeneID').rename_axis(None)[:NUM]])\n",
    "human.head()"
   ]
  },
  {
   "cell_type": "code",
   "execution_count": 3,
   "metadata": {},
   "outputs": [
    {
     "data": {
      "text/plain": [
       "(True, True, True)"
      ]
     },
     "execution_count": 3,
     "metadata": {},
     "output_type": "execute_result"
    }
   ],
   "source": [
    "'CLDN5' in human.index.tolist(), 'ABCD1' in human.index.tolist(), 'TGFB1' in human.index.tolist(), "
   ]
  },
  {
   "cell_type": "code",
   "execution_count": 4,
   "metadata": {
    "scrolled": true
   },
   "outputs": [
    {
     "data": {
      "text/html": [
       "<div>\n",
       "<style scoped>\n",
       "    .dataframe tbody tr th:only-of-type {\n",
       "        vertical-align: middle;\n",
       "    }\n",
       "\n",
       "    .dataframe tbody tr th {\n",
       "        vertical-align: top;\n",
       "    }\n",
       "\n",
       "    .dataframe thead th {\n",
       "        text-align: right;\n",
       "    }\n",
       "</style>\n",
       "<table border=\"1\" class=\"dataframe\">\n",
       "  <thead>\n",
       "    <tr style=\"text-align: right;\">\n",
       "      <th></th>\n",
       "      <th>Base_Mean</th>\n",
       "      <th>log2FC</th>\n",
       "      <th>StdErr</th>\n",
       "      <th>Wald_Stats</th>\n",
       "      <th>P_value</th>\n",
       "      <th>P_adj</th>\n",
       "      <th>prize</th>\n",
       "    </tr>\n",
       "  </thead>\n",
       "  <tbody>\n",
       "    <tr>\n",
       "      <th>ABCD1</th>\n",
       "      <td>206.706956</td>\n",
       "      <td>-2.835321</td>\n",
       "      <td>0.183205</td>\n",
       "      <td>15.476223</td>\n",
       "      <td>5.020961e-54</td>\n",
       "      <td>1.648218e-52</td>\n",
       "      <td>5.517830</td>\n",
       "    </tr>\n",
       "    <tr>\n",
       "      <th>TGFB1</th>\n",
       "      <td>459.067424</td>\n",
       "      <td>2.181096</td>\n",
       "      <td>0.116899</td>\n",
       "      <td>-18.657899</td>\n",
       "      <td>1.089306e-77</td>\n",
       "      <td>5.673349e-76</td>\n",
       "      <td>0.752462</td>\n",
       "    </tr>\n",
       "    <tr>\n",
       "      <th>TAGLN2</th>\n",
       "      <td>3702.951794</td>\n",
       "      <td>-2.954344</td>\n",
       "      <td>0.056286</td>\n",
       "      <td>52.488180</td>\n",
       "      <td>1.000000e-309</td>\n",
       "      <td>1.000000e-310</td>\n",
       "      <td>3.100000</td>\n",
       "    </tr>\n",
       "    <tr>\n",
       "      <th>UHMK1</th>\n",
       "      <td>3543.839403</td>\n",
       "      <td>-3.225018</td>\n",
       "      <td>0.067672</td>\n",
       "      <td>47.656533</td>\n",
       "      <td>1.000000e-309</td>\n",
       "      <td>1.000000e-310</td>\n",
       "      <td>3.100000</td>\n",
       "    </tr>\n",
       "    <tr>\n",
       "      <th>CSRP1</th>\n",
       "      <td>4592.587776</td>\n",
       "      <td>1.856967</td>\n",
       "      <td>0.046232</td>\n",
       "      <td>-40.165842</td>\n",
       "      <td>1.000000e-309</td>\n",
       "      <td>1.000000e-310</td>\n",
       "      <td>3.100000</td>\n",
       "    </tr>\n",
       "  </tbody>\n",
       "</table>\n",
       "</div>"
      ],
      "text/plain": [
       "          Base_Mean    log2FC    StdErr  Wald_Stats        P_value  \\\n",
       "ABCD1    206.706956 -2.835321  0.183205   15.476223   5.020961e-54   \n",
       "TGFB1    459.067424  2.181096  0.116899  -18.657899   1.089306e-77   \n",
       "TAGLN2  3702.951794 -2.954344  0.056286   52.488180  1.000000e-309   \n",
       "UHMK1   3543.839403 -3.225018  0.067672   47.656533  1.000000e-309   \n",
       "CSRP1   4592.587776  1.856967  0.046232  -40.165842  1.000000e-309   \n",
       "\n",
       "                P_adj     prize  \n",
       "ABCD1    1.648218e-52  5.517830  \n",
       "TGFB1    5.673349e-76  0.752462  \n",
       "TAGLN2  1.000000e-310  3.100000  \n",
       "UHMK1   1.000000e-310  3.100000  \n",
       "CSRP1   1.000000e-310  3.100000  "
      ]
     },
     "execution_count": 4,
     "metadata": {},
     "output_type": "execute_result"
    }
   ],
   "source": [
    "human.loc[human['P_value'] == 0, 'P_value'] = 1e-309\n",
    "human.loc[human['P_adj'] == 0, 'P_adj'] = 1e-310\n",
    "human['prize'] = -np.log10(human.P_adj) / 100\n",
    "human.loc[\"CLDN5\", \"prize\"] += 2\n",
    "human.loc[\"ABCD1\", \"prize\"] += 5\n",
    "\n",
    "human['log2FC'] = human['log2FC'] * -1\n",
    "human.head()"
   ]
  },
  {
   "cell_type": "code",
   "execution_count": 7,
   "metadata": {
    "scrolled": true
   },
   "outputs": [],
   "source": [
    "prize_file = \"human_deseq_prizes_500.tsv\"\n",
    "human[['prize','Base_Mean','log2FC','StdErr','Wald_Stats','P_value','P_adj']].to_csv(prize_file, sep='\\t')"
   ]
  },
  {
   "cell_type": "markdown",
   "metadata": {},
   "source": [
    "## II. PCSF"
   ]
  },
  {
   "cell_type": "code",
   "execution_count": 11,
   "metadata": {},
   "outputs": [],
   "source": [
    "import networkx as nx\n",
    "import OmicsIntegrator as oi"
   ]
  },
  {
   "cell_type": "code",
   "execution_count": 12,
   "metadata": {},
   "outputs": [],
   "source": [
    "interactome_file = \"../OmicsIntegrator2/interactomes/inbiomap.9.12.2016.exp.oi2\"\n",
    "prize_file = \"human_deseq_prizes_500.tsv\"\n",
    "graph = oi.Graph(interactome_file, {'g':5})"
   ]
  },
  {
   "cell_type": "code",
   "execution_count": 13,
   "metadata": {},
   "outputs": [
    {
     "name": "stderr",
     "output_type": "stream",
     "text": [
      "06:00:59 - OI2: INFO - Duplicated gene symbols in the prize file (we'll keep the max prize):\n",
      "06:00:59 - OI2: INFO - ['TGFB1']\n",
      "06:00:59 - OI2: INFO - Members of the prize file not present in the interactome:\n",
      "06:00:59 - OI2: INFO - ['AIM1', 'APOL3', 'ATP6V0E1', 'CXorf36', 'FAM198B', 'FAM63B', 'GLT25D1', 'NORAD', 'PRR29', 'RP6-99M1.2', 'TNFSF4']\n"
     ]
    }
   ],
   "source": [
    "graph.prepare_prizes(prize_file)"
   ]
  },
  {
   "cell_type": "code",
   "execution_count": 14,
   "metadata": {},
   "outputs": [
    {
     "data": {
      "text/plain": [
       "93"
      ]
     },
     "execution_count": 14,
     "metadata": {},
     "output_type": "execute_result"
    }
   ],
   "source": [
    "vertex_indices, edge_indices = graph.pcsf()\n",
    "len(vertex_indices)"
   ]
  },
  {
   "cell_type": "code",
   "execution_count": 15,
   "metadata": {
    "scrolled": false
   },
   "outputs": [
    {
     "data": {
      "text/plain": [
       "<networkx.classes.graph.Graph at 0x11f2e8b38>"
      ]
     },
     "execution_count": 15,
     "metadata": {},
     "output_type": "execute_result"
    }
   ],
   "source": [
    "forest, augmented_forest = graph.output_forest_as_networkx(vertex_indices, edge_indices)\n",
    "forest"
   ]
  },
  {
   "cell_type": "code",
   "execution_count": 16,
   "metadata": {},
   "outputs": [
    {
     "name": "stderr",
     "output_type": "stream",
     "text": [
      "/Users/alex/Documents/abcd1/venv/lib/python3.7/site-packages/networkx/drawing/nx_pylab.py:611: MatplotlibDeprecationWarning: isinstance(..., numbers.Number)\n",
      "  if cb.is_numlike(alpha):\n"
     ]
    },
    {
     "data": {
      "image/png": "[encoded data removed]",
      "text/plain": [
       "<Figure size 432x288 with 1 Axes>"
      ]
     },
     "metadata": {},
     "output_type": "display_data"
    }
   ],
   "source": [
    "nx.draw_spring(augmented_forest)\n"
   ]
  },
  {
   "cell_type": "code",
   "execution_count": 17,
   "metadata": {},
   "outputs": [
    {
     "data": {
      "text/plain": [
       "638.3993087190331"
      ]
     },
     "execution_count": 17,
     "metadata": {},
     "output_type": "execute_result"
    }
   ],
   "source": [
    "graph.pcsf_objective_value(forest)\n"
   ]
  },
  {
   "cell_type": "code",
   "execution_count": 18,
   "metadata": {},
   "outputs": [
    {
     "data": {
      "text/html": [
       "<div>\n",
       "<style scoped>\n",
       "    .dataframe tbody tr th:only-of-type {\n",
       "        vertical-align: middle;\n",
       "    }\n",
       "\n",
       "    .dataframe tbody tr th {\n",
       "        vertical-align: top;\n",
       "    }\n",
       "\n",
       "    .dataframe thead th {\n",
       "        text-align: right;\n",
       "    }\n",
       "</style>\n",
       "<table border=\"1\" class=\"dataframe\">\n",
       "  <thead>\n",
       "    <tr style=\"text-align: right;\">\n",
       "      <th></th>\n",
       "      <th>prize</th>\n",
       "      <th>Base_Mean</th>\n",
       "      <th>log2FC</th>\n",
       "      <th>StdErr</th>\n",
       "      <th>Wald_Stats</th>\n",
       "      <th>P_value</th>\n",
       "      <th>P_adj</th>\n",
       "      <th>terminal</th>\n",
       "      <th>type</th>\n",
       "      <th>degree</th>\n",
       "      <th>betweenness</th>\n",
       "      <th>louvain_clusters</th>\n",
       "      <th>location</th>\n",
       "      <th>general_process</th>\n",
       "      <th>specific_process</th>\n",
       "      <th>general_function</th>\n",
       "      <th>specific_function</th>\n",
       "    </tr>\n",
       "  </thead>\n",
       "  <tbody>\n",
       "    <tr>\n",
       "      <th>ABCD1</th>\n",
       "      <td>5.517830</td>\n",
       "      <td>206.706956</td>\n",
       "      <td>-2.835321</td>\n",
       "      <td>0.183205</td>\n",
       "      <td>15.476223</td>\n",
       "      <td>5.020961e-54</td>\n",
       "      <td>1.648218e-52</td>\n",
       "      <td>True</td>\n",
       "      <td>protein</td>\n",
       "      <td>16</td>\n",
       "      <td>0.000000</td>\n",
       "      <td>4</td>\n",
       "      <td>peroxisome</td>\n",
       "      <td>cellular process</td>\n",
       "      <td>cellular component organization</td>\n",
       "      <td>transporter</td>\n",
       "      <td>lipid transporter</td>\n",
       "    </tr>\n",
       "    <tr>\n",
       "      <th>ADD3</th>\n",
       "      <td>2.924647</td>\n",
       "      <td>2596.830442</td>\n",
       "      <td>2.311630</td>\n",
       "      <td>0.062866</td>\n",
       "      <td>-36.770760</td>\n",
       "      <td>5.417044e-296</td>\n",
       "      <td>3.430129e-293</td>\n",
       "      <td>True</td>\n",
       "      <td>protein</td>\n",
       "      <td>25</td>\n",
       "      <td>0.000000</td>\n",
       "      <td>1</td>\n",
       "      <td>nucleus</td>\n",
       "      <td>cellular process</td>\n",
       "      <td>cellular component organization</td>\n",
       "      <td>structural molecule</td>\n",
       "      <td>structural constituent of cytoskeleton</td>\n",
       "    </tr>\n",
       "    <tr>\n",
       "      <th>AMOTL2</th>\n",
       "      <td>2.930907</td>\n",
       "      <td>3096.331203</td>\n",
       "      <td>-1.954230</td>\n",
       "      <td>0.053089</td>\n",
       "      <td>36.810636</td>\n",
       "      <td>1.247823e-296</td>\n",
       "      <td>8.114896e-294</td>\n",
       "      <td>True</td>\n",
       "      <td>protein</td>\n",
       "      <td>79</td>\n",
       "      <td>0.000000</td>\n",
       "      <td>0</td>\n",
       "      <td>cytoplasm</td>\n",
       "      <td>cellular process</td>\n",
       "      <td>cell communication</td>\n",
       "      <td>binding</td>\n",
       "      <td>protein binding</td>\n",
       "    </tr>\n",
       "    <tr>\n",
       "      <th>AP2A1</th>\n",
       "      <td>1.135907</td>\n",
       "      <td>2452.825093</td>\n",
       "      <td>1.391865</td>\n",
       "      <td>0.060715</td>\n",
       "      <td>-22.924545</td>\n",
       "      <td>2.644816e-116</td>\n",
       "      <td>2.566111e-114</td>\n",
       "      <td>True</td>\n",
       "      <td>protein</td>\n",
       "      <td>101</td>\n",
       "      <td>0.178466</td>\n",
       "      <td>0</td>\n",
       "      <td>golgi</td>\n",
       "      <td>biological regulation</td>\n",
       "      <td>regulation of biological process</td>\n",
       "      <td>binding</td>\n",
       "      <td>protein binding</td>\n",
       "    </tr>\n",
       "    <tr>\n",
       "      <th>BACE1</th>\n",
       "      <td>1.243755</td>\n",
       "      <td>1469.981300</td>\n",
       "      <td>2.035023</td>\n",
       "      <td>0.084830</td>\n",
       "      <td>-23.989391</td>\n",
       "      <td>3.588534e-127</td>\n",
       "      <td>4.212063e-125</td>\n",
       "      <td>True</td>\n",
       "      <td>protein</td>\n",
       "      <td>24</td>\n",
       "      <td>0.063784</td>\n",
       "      <td>4</td>\n",
       "      <td>golgi</td>\n",
       "      <td>metabolic process</td>\n",
       "      <td>nitrogen compound metabolic process</td>\n",
       "      <td>catalytic</td>\n",
       "      <td>hydrolase</td>\n",
       "    </tr>\n",
       "  </tbody>\n",
       "</table>\n",
       "</div>"
      ],
      "text/plain": [
       "           prize    Base_Mean    log2FC    StdErr  Wald_Stats        P_value  \\\n",
       "ABCD1   5.517830   206.706956 -2.835321  0.183205   15.476223   5.020961e-54   \n",
       "ADD3    2.924647  2596.830442  2.311630  0.062866  -36.770760  5.417044e-296   \n",
       "AMOTL2  2.930907  3096.331203 -1.954230  0.053089   36.810636  1.247823e-296   \n",
       "AP2A1   1.135907  2452.825093  1.391865  0.060715  -22.924545  2.644816e-116   \n",
       "BACE1   1.243755  1469.981300  2.035023  0.084830  -23.989391  3.588534e-127   \n",
       "\n",
       "                P_adj  terminal     type  degree  betweenness  \\\n",
       "ABCD1    1.648218e-52      True  protein      16     0.000000   \n",
       "ADD3    3.430129e-293      True  protein      25     0.000000   \n",
       "AMOTL2  8.114896e-294      True  protein      79     0.000000   \n",
       "AP2A1   2.566111e-114      True  protein     101     0.178466   \n",
       "BACE1   4.212063e-125      True  protein      24     0.063784   \n",
       "\n",
       "       louvain_clusters    location        general_process  \\\n",
       "ABCD1                 4  peroxisome       cellular process   \n",
       "ADD3                  1     nucleus       cellular process   \n",
       "AMOTL2                0   cytoplasm       cellular process   \n",
       "AP2A1                 0       golgi  biological regulation   \n",
       "BACE1                 4       golgi      metabolic process   \n",
       "\n",
       "                           specific_process     general_function  \\\n",
       "ABCD1       cellular component organization          transporter   \n",
       "ADD3        cellular component organization  structural molecule   \n",
       "AMOTL2                   cell communication              binding   \n",
       "AP2A1      regulation of biological process              binding   \n",
       "BACE1   nitrogen compound metabolic process            catalytic   \n",
       "\n",
       "                             specific_function  \n",
       "ABCD1                        lipid transporter  \n",
       "ADD3    structural constituent of cytoskeleton  \n",
       "AMOTL2                         protein binding  \n",
       "AP2A1                          protein binding  \n",
       "BACE1                                hydrolase  "
      ]
     },
     "execution_count": 18,
     "metadata": {},
     "output_type": "execute_result"
    }
   ],
   "source": [
    "oi.get_networkx_graph_as_dataframe_of_nodes(augmented_forest).head()\n"
   ]
  },
  {
   "cell_type": "code",
   "execution_count": 20,
   "metadata": {},
   "outputs": [
    {
     "data": {
      "text/plain": [
       "PosixPath('/Users/alex/Documents/abcd1/docs/graph.html')"
      ]
     },
     "execution_count": 20,
     "metadata": {},
     "output_type": "execute_result"
    }
   ],
   "source": [
    "oi.output_networkx_graph_as_interactive_html(augmented_forest, output_dir='./docs')\n"
   ]
  },
  {
   "cell_type": "code",
   "execution_count": null,
   "metadata": {},
   "outputs": [],
   "source": []
  }
 ],
 "metadata": {
  "kernelspec": {
   "display_name": "Python 3",
   "language": "python",
   "name": "python3"
  },
  "language_info": {
   "codemirror_mode": {
    "name": "ipython",
    "version": 3
   },
   "file_extension": ".py",
   "mimetype": "text/x-python",
   "name": "python",
   "nbconvert_exporter": "python",
   "pygments_lexer": "ipython3",
   "version": "3.7.2"
  }
 },
 "nbformat": 4,
 "nbformat_minor": 2
}
