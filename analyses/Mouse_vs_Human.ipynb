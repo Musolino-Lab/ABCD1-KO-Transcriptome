{
 "cells": [
  {
   "cell_type": "code",
   "execution_count": 1,
   "metadata": {},
   "outputs": [],
   "source": [
    "%matplotlib inline\n",
    "import numpy as np\n",
    "import pandas as pd\n",
    "from matplotlib_venn import venn2, venn3"
   ]
  },
  {
   "cell_type": "code",
   "execution_count": 2,
   "metadata": {},
   "outputs": [
    {
     "data": {
      "text/html": [
       "<div>\n",
       "<style scoped>\n",
       "    .dataframe tbody tr th:only-of-type {\n",
       "        vertical-align: middle;\n",
       "    }\n",
       "\n",
       "    .dataframe tbody tr th {\n",
       "        vertical-align: top;\n",
       "    }\n",
       "\n",
       "    .dataframe thead th {\n",
       "        text-align: right;\n",
       "    }\n",
       "</style>\n",
       "<table border=\"1\" class=\"dataframe\">\n",
       "  <thead>\n",
       "    <tr style=\"text-align: right;\">\n",
       "      <th></th>\n",
       "      <th>gene</th>\n",
       "      <th>Base mean</th>\n",
       "      <th>log2FC</th>\n",
       "      <th>StdErr</th>\n",
       "      <th>Wald_Stats</th>\n",
       "      <th>p</th>\n",
       "      <th>q</th>\n",
       "    </tr>\n",
       "  </thead>\n",
       "  <tbody>\n",
       "    <tr>\n",
       "      <th>0</th>\n",
       "      <td>Timp2</td>\n",
       "      <td>6898.429574</td>\n",
       "      <td>3.955563</td>\n",
       "      <td>0.096145</td>\n",
       "      <td>-41.141552</td>\n",
       "      <td>0.000000e+00</td>\n",
       "      <td>0.000000e+00</td>\n",
       "    </tr>\n",
       "    <tr>\n",
       "      <th>1</th>\n",
       "      <td>Tmbim6</td>\n",
       "      <td>6188.554131</td>\n",
       "      <td>1.990989</td>\n",
       "      <td>0.063462</td>\n",
       "      <td>-31.372878</td>\n",
       "      <td>4.744136e-216</td>\n",
       "      <td>4.415842e-212</td>\n",
       "    </tr>\n",
       "    <tr>\n",
       "      <th>2</th>\n",
       "      <td>Cdc34</td>\n",
       "      <td>1881.032867</td>\n",
       "      <td>-2.176991</td>\n",
       "      <td>0.075121</td>\n",
       "      <td>28.979662</td>\n",
       "      <td>1.187292e-184</td>\n",
       "      <td>7.367543e-181</td>\n",
       "    </tr>\n",
       "    <tr>\n",
       "      <th>3</th>\n",
       "      <td>Lipa</td>\n",
       "      <td>3256.752104</td>\n",
       "      <td>2.064111</td>\n",
       "      <td>0.072635</td>\n",
       "      <td>-28.417525</td>\n",
       "      <td>1.228353e-177</td>\n",
       "      <td>5.716754e-174</td>\n",
       "    </tr>\n",
       "    <tr>\n",
       "      <th>4</th>\n",
       "      <td>Selp</td>\n",
       "      <td>3124.381122</td>\n",
       "      <td>-2.682026</td>\n",
       "      <td>0.102079</td>\n",
       "      <td>26.273974</td>\n",
       "      <td>3.804801e-152</td>\n",
       "      <td>1.416603e-148</td>\n",
       "    </tr>\n",
       "  </tbody>\n",
       "</table>\n",
       "</div>"
      ],
      "text/plain": [
       "     gene    Base mean    log2FC    StdErr  Wald_Stats              p  \\\n",
       "0   Timp2  6898.429574  3.955563  0.096145  -41.141552   0.000000e+00   \n",
       "1  Tmbim6  6188.554131  1.990989  0.063462  -31.372878  4.744136e-216   \n",
       "2   Cdc34  1881.032867 -2.176991  0.075121   28.979662  1.187292e-184   \n",
       "3    Lipa  3256.752104  2.064111  0.072635  -28.417525  1.228353e-177   \n",
       "4    Selp  3124.381122 -2.682026  0.102079   26.273974  3.804801e-152   \n",
       "\n",
       "               q  \n",
       "0   0.000000e+00  \n",
       "1  4.415842e-212  \n",
       "2  7.367543e-181  \n",
       "3  5.716754e-174  \n",
       "4  1.416603e-148  "
      ]
     },
     "execution_count": 2,
     "metadata": {},
     "output_type": "execute_result"
    }
   ],
   "source": [
    "mouse = pd.read_csv('../data/Yamuna/Mouse_NT_vs_ABCD1_DESeq2_results.tsv', sep='\\t', header=None, names=[\"gene\",\"Base mean\",\"log2FC\",\"StdErr\",\"Wald_Stats\",\"p\",\"q\"])\n",
    "human = pd.read_csv('../data/Yamuna/Human_NT_vs_ABCD1_DESeq2_results.tsv', sep='\\t', header=None, names=[\"gene\",\"Base mean\",\"log2FC\",\"StdErr\",\"Wald_Stats\",\"p\",\"q\"])\n",
    "\n",
    "mouse['log2FC'] = mouse.loc[:,'log2FC'] * -1\n",
    "human['log2FC'] = human.loc[:,'log2FC'] * -1\n",
    "\n",
    "mouse.head()"
   ]
  },
  {
   "cell_type": "code",
   "execution_count": 3,
   "metadata": {},
   "outputs": [
    {
     "name": "stdout",
     "output_type": "stream",
     "text": [
      "53656 56832\n",
      "1031 2600\n"
     ]
    }
   ],
   "source": [
    "print(len(mouse), len(human))\n",
    "\n",
    "mouse_de = mouse[(mouse.q < 0.01) & (abs(mouse.log2FC) > 1)]\n",
    "human_de = human[(human.q < 0.01) & (abs(human.log2FC) > 1)]\n",
    "\n",
    "print(len(mouse_de), len(human_de))"
   ]
  },
  {
   "cell_type": "code",
   "execution_count": 4,
   "metadata": {},
   "outputs": [
    {
     "name": "stderr",
     "output_type": "stream",
     "text": [
      "/Users/alex/Documents/abcd1/venv/lib/python3.7/site-packages/pandas/core/indexing.py:543: SettingWithCopyWarning: \n",
      "A value is trying to be set on a copy of a slice from a DataFrame.\n",
      "Try using .loc[row_indexer,col_indexer] = value instead\n",
      "\n",
      "See the caveats in the documentation: http://pandas.pydata.org/pandas-docs/stable/indexing.html#indexing-view-versus-copy\n",
      "  self.obj[item] = s\n"
     ]
    },
    {
     "data": {
      "text/html": [
       "<div>\n",
       "<style scoped>\n",
       "    .dataframe tbody tr th:only-of-type {\n",
       "        vertical-align: middle;\n",
       "    }\n",
       "\n",
       "    .dataframe tbody tr th {\n",
       "        vertical-align: top;\n",
       "    }\n",
       "\n",
       "    .dataframe thead th {\n",
       "        text-align: right;\n",
       "    }\n",
       "</style>\n",
       "<table border=\"1\" class=\"dataframe\">\n",
       "  <thead>\n",
       "    <tr style=\"text-align: right;\">\n",
       "      <th></th>\n",
       "      <th>gene</th>\n",
       "      <th>Base mean</th>\n",
       "      <th>log2FC</th>\n",
       "      <th>StdErr</th>\n",
       "      <th>Wald_Stats</th>\n",
       "      <th>p</th>\n",
       "      <th>q</th>\n",
       "    </tr>\n",
       "  </thead>\n",
       "  <tbody>\n",
       "    <tr>\n",
       "      <th>0</th>\n",
       "      <td>TIMP2</td>\n",
       "      <td>6898.429574</td>\n",
       "      <td>3.955563</td>\n",
       "      <td>0.096145</td>\n",
       "      <td>-41.141552</td>\n",
       "      <td>0.000000e+00</td>\n",
       "      <td>0.000000e+00</td>\n",
       "    </tr>\n",
       "    <tr>\n",
       "      <th>1</th>\n",
       "      <td>TMBIM6</td>\n",
       "      <td>6188.554131</td>\n",
       "      <td>1.990989</td>\n",
       "      <td>0.063462</td>\n",
       "      <td>-31.372878</td>\n",
       "      <td>4.744136e-216</td>\n",
       "      <td>4.415842e-212</td>\n",
       "    </tr>\n",
       "    <tr>\n",
       "      <th>2</th>\n",
       "      <td>CDC34</td>\n",
       "      <td>1881.032867</td>\n",
       "      <td>-2.176991</td>\n",
       "      <td>0.075121</td>\n",
       "      <td>28.979662</td>\n",
       "      <td>1.187292e-184</td>\n",
       "      <td>7.367543e-181</td>\n",
       "    </tr>\n",
       "    <tr>\n",
       "      <th>3</th>\n",
       "      <td>LIPA</td>\n",
       "      <td>3256.752104</td>\n",
       "      <td>2.064111</td>\n",
       "      <td>0.072635</td>\n",
       "      <td>-28.417525</td>\n",
       "      <td>1.228353e-177</td>\n",
       "      <td>5.716754e-174</td>\n",
       "    </tr>\n",
       "    <tr>\n",
       "      <th>4</th>\n",
       "      <td>SELP</td>\n",
       "      <td>3124.381122</td>\n",
       "      <td>-2.682026</td>\n",
       "      <td>0.102079</td>\n",
       "      <td>26.273974</td>\n",
       "      <td>3.804801e-152</td>\n",
       "      <td>1.416603e-148</td>\n",
       "    </tr>\n",
       "  </tbody>\n",
       "</table>\n",
       "</div>"
      ],
      "text/plain": [
       "     gene    Base mean    log2FC    StdErr  Wald_Stats              p  \\\n",
       "0   TIMP2  6898.429574  3.955563  0.096145  -41.141552   0.000000e+00   \n",
       "1  TMBIM6  6188.554131  1.990989  0.063462  -31.372878  4.744136e-216   \n",
       "2   CDC34  1881.032867 -2.176991  0.075121   28.979662  1.187292e-184   \n",
       "3    LIPA  3256.752104  2.064111  0.072635  -28.417525  1.228353e-177   \n",
       "4    SELP  3124.381122 -2.682026  0.102079   26.273974  3.804801e-152   \n",
       "\n",
       "               q  \n",
       "0   0.000000e+00  \n",
       "1  4.415842e-212  \n",
       "2  7.367543e-181  \n",
       "3  5.716754e-174  \n",
       "4  1.416603e-148  "
      ]
     },
     "execution_count": 4,
     "metadata": {},
     "output_type": "execute_result"
    }
   ],
   "source": [
    "mouse_de.loc[:, 'gene'] = mouse_de.gene.str.upper()\n",
    "mouse_de.head()"
   ]
  },
  {
   "cell_type": "code",
   "execution_count": 5,
   "metadata": {},
   "outputs": [
    {
     "data": {
      "text/plain": [
       "194"
      ]
     },
     "execution_count": 5,
     "metadata": {},
     "output_type": "execute_result"
    }
   ],
   "source": [
    "len(set(mouse_de.gene) & set(human_de.gene))"
   ]
  },
  {
   "cell_type": "code",
   "execution_count": 6,
   "metadata": {},
   "outputs": [
    {
     "data": {
      "text/plain": [
       "(837, 2406)"
      ]
     },
     "execution_count": 6,
     "metadata": {},
     "output_type": "execute_result"
    }
   ],
   "source": [
    "len(set(mouse_de.gene) - set(human_de.gene)), len(set(human_de.gene) - set(mouse_de.gene))"
   ]
  },
  {
   "cell_type": "code",
   "execution_count": 7,
   "metadata": {},
   "outputs": [
    {
     "data": {
      "text/plain": [
       "<matplotlib_venn._common.VennDiagram at 0x123936d30>"
      ]
     },
     "execution_count": 7,
     "metadata": {},
     "output_type": "execute_result"
    },
    {
     "data": {
      "image/png": "[encoded data removed]",
      "text/plain": [
       "<Figure size 432x288 with 1 Axes>"
      ]
     },
     "metadata": {},
     "output_type": "display_data"
    }
   ],
   "source": [
    "venn2([set(mouse_de[mouse_de.log2FC > 0].gene), set(human_de[human_de.log2FC > 0].gene)], ['Up in mouse', 'Up in human'])\n"
   ]
  },
  {
   "cell_type": "code",
   "execution_count": 8,
   "metadata": {},
   "outputs": [
    {
     "data": {
      "text/plain": [
       "<matplotlib_venn._common.VennDiagram at 0x1239749b0>"
      ]
     },
     "execution_count": 8,
     "metadata": {},
     "output_type": "execute_result"
    },
    {
     "data": {
      "image/png": "[encoded data removed]",
      "text/plain": [
       "<Figure size 432x288 with 1 Axes>"
      ]
     },
     "metadata": {},
     "output_type": "display_data"
    }
   ],
   "source": [
    "venn2([set(mouse_de[mouse_de.log2FC < 0].gene), set(human_de[human_de.log2FC < 0].gene)], ['Down in mouse', 'Down in human'])\n"
   ]
  },
  {
   "cell_type": "code",
   "execution_count": 9,
   "metadata": {},
   "outputs": [
    {
     "name": "stdout",
     "output_type": "stream",
     "text": [
      "Maximum possible overlap: 77.69 %\n"
     ]
    }
   ],
   "source": [
    "print('Maximum possible overlap:', round(len(set(mouse_de.gene) & set(human.gene)) / len(set(mouse_de.gene))*100,2), '%')"
   ]
  },
  {
   "cell_type": "code",
   "execution_count": 10,
   "metadata": {},
   "outputs": [],
   "source": [
    "Up_in_both_mouse_and_human = set(mouse_de[mouse_de.log2FC > 0].gene) & set(human_de[human_de.log2FC > 0].gene)\n",
    "Up_only_in_mouse = set(mouse_de[mouse_de.log2FC > 0].gene) - set(human_de[human_de.log2FC > 0].gene)\n",
    "Up_only_in_human = set(human_de[human_de.log2FC > 0].gene) - set(mouse_de[mouse_de.log2FC > 0].gene)\n",
    "Down_in_both_mouse_and_human = set(mouse_de[mouse_de.log2FC < 0].gene) & set(human_de[human_de.log2FC < 0].gene)\n",
    "Down_only_in_mouse = set(mouse_de[mouse_de.log2FC < 0].gene) - set(human_de[human_de.log2FC < 0].gene)\n",
    "Down_only_in_human = set(human_de[human_de.log2FC < 0].gene) - set(mouse_de[mouse_de.log2FC < 0].gene)\n"
   ]
  },
  {
   "cell_type": "code",
   "execution_count": null,
   "metadata": {},
   "outputs": [],
   "source": []
  }
 ],
 "metadata": {
  "kernelspec": {
   "display_name": "Python 3",
   "language": "python",
   "name": "python3"
  },
  "language_info": {
   "codemirror_mode": {
    "name": "ipython",
    "version": 3
   },
   "file_extension": ".py",
   "mimetype": "text/x-python",
   "name": "python",
   "nbconvert_exporter": "python",
   "pygments_lexer": "ipython3",
   "version": "3.7.2"
  }
 },
 "nbformat": 4,
 "nbformat_minor": 2
}
