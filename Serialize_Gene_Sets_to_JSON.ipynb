{
 "cells": [
  {
   "cell_type": "markdown",
   "metadata": {},
   "source": [
    "# Serializing Reference Gene Sets to JSON"
   ]
  },
  {
   "cell_type": "code",
   "execution_count": 1,
   "metadata": {},
   "outputs": [],
   "source": [
    "%matplotlib inline\n",
    "import numpy as np\n",
    "import pandas as pd"
   ]
  },
  {
   "cell_type": "markdown",
   "metadata": {},
   "source": [
    "## I. Serialize Gene Ontology to JSON"
   ]
  },
  {
   "cell_type": "code",
   "execution_count": 2,
   "metadata": {},
   "outputs": [
    {
     "data": {
      "text/html": [
       "<div>\n",
       "<style scoped>\n",
       "    .dataframe tbody tr th:only-of-type {\n",
       "        vertical-align: middle;\n",
       "    }\n",
       "\n",
       "    .dataframe tbody tr th {\n",
       "        vertical-align: top;\n",
       "    }\n",
       "\n",
       "    .dataframe thead th {\n",
       "        text-align: right;\n",
       "    }\n",
       "</style>\n",
       "<table border=\"1\" class=\"dataframe\">\n",
       "  <thead>\n",
       "    <tr style=\"text-align: right;\">\n",
       "      <th></th>\n",
       "      <th>GeneSymbol</th>\n",
       "      <th>GO_ID</th>\n",
       "      <th>GO_term</th>\n",
       "      <th>Evidence</th>\n",
       "    </tr>\n",
       "  </thead>\n",
       "  <tbody>\n",
       "    <tr>\n",
       "      <th>0</th>\n",
       "      <td>A1BG</td>\n",
       "      <td>GO:0002576</td>\n",
       "      <td>platelet degranulation</td>\n",
       "      <td>TAS</td>\n",
       "    </tr>\n",
       "    <tr>\n",
       "      <th>1</th>\n",
       "      <td>A1BG</td>\n",
       "      <td>GO:0008150</td>\n",
       "      <td>biological_process</td>\n",
       "      <td>ND</td>\n",
       "    </tr>\n",
       "    <tr>\n",
       "      <th>2</th>\n",
       "      <td>A1BG</td>\n",
       "      <td>GO:0043312</td>\n",
       "      <td>neutrophil degranulation</td>\n",
       "      <td>TAS</td>\n",
       "    </tr>\n",
       "    <tr>\n",
       "      <th>3</th>\n",
       "      <td>A2M</td>\n",
       "      <td>GO:0001869</td>\n",
       "      <td>negative regulation of complement activation, ...</td>\n",
       "      <td>IDA</td>\n",
       "    </tr>\n",
       "    <tr>\n",
       "      <th>4</th>\n",
       "      <td>A2M</td>\n",
       "      <td>GO:0002576</td>\n",
       "      <td>platelet degranulation</td>\n",
       "      <td>TAS</td>\n",
       "    </tr>\n",
       "  </tbody>\n",
       "</table>\n",
       "</div>"
      ],
      "text/plain": [
       "  GeneSymbol       GO_ID                                            GO_term  \\\n",
       "0       A1BG  GO:0002576                             platelet degranulation   \n",
       "1       A1BG  GO:0008150                                 biological_process   \n",
       "2       A1BG  GO:0043312                           neutrophil degranulation   \n",
       "3        A2M  GO:0001869  negative regulation of complement activation, ...   \n",
       "4        A2M  GO:0002576                             platelet degranulation   \n",
       "\n",
       "  Evidence  \n",
       "0      TAS  \n",
       "1       ND  \n",
       "2      TAS  \n",
       "3      IDA  \n",
       "4      TAS  "
      ]
     },
     "execution_count": 2,
     "metadata": {},
     "output_type": "execute_result"
    }
   ],
   "source": [
    "go = pd.read_csv('../GONN/GO/biological_process.csv')\n",
    "go.head()"
   ]
  },
  {
   "cell_type": "code",
   "execution_count": 3,
   "metadata": {},
   "outputs": [
    {
     "data": {
      "text/html": [
       "<div>\n",
       "<style scoped>\n",
       "    .dataframe tbody tr th:only-of-type {\n",
       "        vertical-align: middle;\n",
       "    }\n",
       "\n",
       "    .dataframe tbody tr th {\n",
       "        vertical-align: top;\n",
       "    }\n",
       "\n",
       "    .dataframe thead th {\n",
       "        text-align: right;\n",
       "    }\n",
       "</style>\n",
       "<table border=\"1\" class=\"dataframe\">\n",
       "  <thead>\n",
       "    <tr style=\"text-align: right;\">\n",
       "      <th></th>\n",
       "      <th></th>\n",
       "      <th>GeneSymbol</th>\n",
       "    </tr>\n",
       "    <tr>\n",
       "      <th>GO_term</th>\n",
       "      <th>GO_ID</th>\n",
       "      <th></th>\n",
       "    </tr>\n",
       "  </thead>\n",
       "  <tbody>\n",
       "    <tr>\n",
       "      <th>'de novo' AMP biosynthetic process</th>\n",
       "      <th>GO:0044208</th>\n",
       "      <td>[ADSL, ADSL, ADSS, ADSS, ADSSL1, ADSSL1]</td>\n",
       "    </tr>\n",
       "    <tr>\n",
       "      <th>'de novo' CTP biosynthetic process</th>\n",
       "      <th>GO:0044210</th>\n",
       "      <td>[CTPS1, CTPS2]</td>\n",
       "    </tr>\n",
       "    <tr>\n",
       "      <th>'de novo' GDP-L-fucose biosynthetic process</th>\n",
       "      <th>GO:0042351</th>\n",
       "      <td>[GMDS, GMDS, GMDS, TSTA3, TSTA3, TSTA3]</td>\n",
       "    </tr>\n",
       "    <tr>\n",
       "      <th>'de novo' IMP biosynthetic process</th>\n",
       "      <th>GO:0006189</th>\n",
       "      <td>[ADSL, ATIC, GART, PFAS, PFAS, PPAT, PAICS]</td>\n",
       "    </tr>\n",
       "    <tr>\n",
       "      <th>'de novo' L-methionine biosynthetic process</th>\n",
       "      <th>GO:0071266</th>\n",
       "      <td>[CTH]</td>\n",
       "    </tr>\n",
       "  </tbody>\n",
       "</table>\n",
       "</div>"
      ],
      "text/plain": [
       "                                                                                         GeneSymbol\n",
       "GO_term                                     GO_ID                                                  \n",
       "'de novo' AMP biosynthetic process          GO:0044208     [ADSL, ADSL, ADSS, ADSS, ADSSL1, ADSSL1]\n",
       "'de novo' CTP biosynthetic process          GO:0044210                               [CTPS1, CTPS2]\n",
       "'de novo' GDP-L-fucose biosynthetic process GO:0042351      [GMDS, GMDS, GMDS, TSTA3, TSTA3, TSTA3]\n",
       "'de novo' IMP biosynthetic process          GO:0006189  [ADSL, ATIC, GART, PFAS, PFAS, PPAT, PAICS]\n",
       "'de novo' L-methionine biosynthetic process GO:0071266                                        [CTH]"
      ]
     },
     "execution_count": 3,
     "metadata": {},
     "output_type": "execute_result"
    }
   ],
   "source": [
    "go = (go.groupby(['GO_term', 'GO_ID'])['GeneSymbol'].apply(list)).to_frame()\n",
    "go.head()"
   ]
  },
  {
   "cell_type": "code",
   "execution_count": 4,
   "metadata": {},
   "outputs": [
    {
     "data": {
      "text/html": [
       "<div>\n",
       "<style scoped>\n",
       "    .dataframe tbody tr th:only-of-type {\n",
       "        vertical-align: middle;\n",
       "    }\n",
       "\n",
       "    .dataframe tbody tr th {\n",
       "        vertical-align: top;\n",
       "    }\n",
       "\n",
       "    .dataframe thead th {\n",
       "        text-align: right;\n",
       "    }\n",
       "</style>\n",
       "<table border=\"1\" class=\"dataframe\">\n",
       "  <thead>\n",
       "    <tr style=\"text-align: right;\">\n",
       "      <th></th>\n",
       "      <th>GeneSymbol</th>\n",
       "    </tr>\n",
       "  </thead>\n",
       "  <tbody>\n",
       "    <tr>\n",
       "      <th>'de novo' AMP biosynthetic process (GO:0044208)</th>\n",
       "      <td>[ADSL, ADSL, ADSS, ADSS, ADSSL1, ADSSL1]</td>\n",
       "    </tr>\n",
       "    <tr>\n",
       "      <th>'de novo' CTP biosynthetic process (GO:0044210)</th>\n",
       "      <td>[CTPS1, CTPS2]</td>\n",
       "    </tr>\n",
       "    <tr>\n",
       "      <th>'de novo' GDP-L-fucose biosynthetic process (GO:0042351)</th>\n",
       "      <td>[GMDS, GMDS, GMDS, TSTA3, TSTA3, TSTA3]</td>\n",
       "    </tr>\n",
       "    <tr>\n",
       "      <th>'de novo' IMP biosynthetic process (GO:0006189)</th>\n",
       "      <td>[ADSL, ATIC, GART, PFAS, PFAS, PPAT, PAICS]</td>\n",
       "    </tr>\n",
       "    <tr>\n",
       "      <th>'de novo' L-methionine biosynthetic process (GO:0071266)</th>\n",
       "      <td>[CTH]</td>\n",
       "    </tr>\n",
       "  </tbody>\n",
       "</table>\n",
       "</div>"
      ],
      "text/plain": [
       "                                                                                     GeneSymbol\n",
       "'de novo' AMP biosynthetic process (GO:0044208)        [ADSL, ADSL, ADSS, ADSS, ADSSL1, ADSSL1]\n",
       "'de novo' CTP biosynthetic process (GO:0044210)                                  [CTPS1, CTPS2]\n",
       "'de novo' GDP-L-fucose biosynthetic process (GO...      [GMDS, GMDS, GMDS, TSTA3, TSTA3, TSTA3]\n",
       "'de novo' IMP biosynthetic process (GO:0006189)     [ADSL, ATIC, GART, PFAS, PFAS, PPAT, PAICS]\n",
       "'de novo' L-methionine biosynthetic process (GO...                                        [CTH]"
      ]
     },
     "execution_count": 4,
     "metadata": {},
     "output_type": "execute_result"
    }
   ],
   "source": [
    "go.index = go.reset_index()['GO_term'].map(str) + ' (' + go.reset_index()['GO_ID'] + ')'\n",
    "go.head()"
   ]
  },
  {
   "cell_type": "code",
   "execution_count": 5,
   "metadata": {},
   "outputs": [],
   "source": [
    "go.to_json('/Users/alex/Documents/abcd1/json/go_biological_process_genes.json')"
   ]
  },
  {
   "cell_type": "markdown",
   "metadata": {},
   "source": [
    "## II. Serialize MSigDB Pathways to JSON"
   ]
  },
  {
   "cell_type": "code",
   "execution_count": 5,
   "metadata": {},
   "outputs": [
    {
     "data": {
      "text/html": [
       "<div>\n",
       "<style scoped>\n",
       "    .dataframe tbody tr th:only-of-type {\n",
       "        vertical-align: middle;\n",
       "    }\n",
       "\n",
       "    .dataframe tbody tr th {\n",
       "        vertical-align: top;\n",
       "    }\n",
       "\n",
       "    .dataframe thead th {\n",
       "        text-align: right;\n",
       "    }\n",
       "</style>\n",
       "<table border=\"1\" class=\"dataframe\">\n",
       "  <thead>\n",
       "    <tr style=\"text-align: right;\">\n",
       "      <th></th>\n",
       "      <th>GeneSymbol</th>\n",
       "    </tr>\n",
       "  </thead>\n",
       "  <tbody>\n",
       "    <tr>\n",
       "      <th>0</th>\n",
       "      <td>KEGG_GLYCOLYSIS_GLUCONEOGENESIS\\thttp://www.br...</td>\n",
       "    </tr>\n",
       "    <tr>\n",
       "      <th>1</th>\n",
       "      <td>KEGG_CITRATE_CYCLE_TCA_CYCLE\\thttp://www.broad...</td>\n",
       "    </tr>\n",
       "    <tr>\n",
       "      <th>2</th>\n",
       "      <td>KEGG_PENTOSE_PHOSPHATE_PATHWAY\\thttp://www.bro...</td>\n",
       "    </tr>\n",
       "    <tr>\n",
       "      <th>3</th>\n",
       "      <td>KEGG_PENTOSE_AND_GLUCURONATE_INTERCONVERSIONS\\...</td>\n",
       "    </tr>\n",
       "    <tr>\n",
       "      <th>4</th>\n",
       "      <td>KEGG_FRUCTOSE_AND_MANNOSE_METABOLISM\\thttp://w...</td>\n",
       "    </tr>\n",
       "  </tbody>\n",
       "</table>\n",
       "</div>"
      ],
      "text/plain": [
       "                                          GeneSymbol\n",
       "0  KEGG_GLYCOLYSIS_GLUCONEOGENESIS\\thttp://www.br...\n",
       "1  KEGG_CITRATE_CYCLE_TCA_CYCLE\\thttp://www.broad...\n",
       "2  KEGG_PENTOSE_PHOSPHATE_PATHWAY\\thttp://www.bro...\n",
       "3  KEGG_PENTOSE_AND_GLUCURONATE_INTERCONVERSIONS\\...\n",
       "4  KEGG_FRUCTOSE_AND_MANNOSE_METABOLISM\\thttp://w..."
      ]
     },
     "execution_count": 5,
     "metadata": {},
     "output_type": "execute_result"
    }
   ],
   "source": [
    "msigdb = pd.read_csv('./c2.cp.v6.1.symbols.gmt', header=None).rename(columns={0: 'GeneSymbol'})\n",
    "msigdb.head()"
   ]
  },
  {
   "cell_type": "code",
   "execution_count": 6,
   "metadata": {},
   "outputs": [
    {
     "data": {
      "text/html": [
       "<div>\n",
       "<style scoped>\n",
       "    .dataframe tbody tr th:only-of-type {\n",
       "        vertical-align: middle;\n",
       "    }\n",
       "\n",
       "    .dataframe tbody tr th {\n",
       "        vertical-align: top;\n",
       "    }\n",
       "\n",
       "    .dataframe thead th {\n",
       "        text-align: right;\n",
       "    }\n",
       "</style>\n",
       "<table border=\"1\" class=\"dataframe\">\n",
       "  <thead>\n",
       "    <tr style=\"text-align: right;\">\n",
       "      <th></th>\n",
       "      <th>GeneSymbol</th>\n",
       "    </tr>\n",
       "    <tr>\n",
       "      <th>GeneSymbol</th>\n",
       "      <th></th>\n",
       "    </tr>\n",
       "  </thead>\n",
       "  <tbody>\n",
       "    <tr>\n",
       "      <th>KEGG_GLYCOLYSIS_GLUCONEOGENESIS</th>\n",
       "      <td>KEGG_GLYCOLYSIS_GLUCONEOGENESIS\\thttp://www.br...</td>\n",
       "    </tr>\n",
       "    <tr>\n",
       "      <th>KEGG_CITRATE_CYCLE_TCA_CYCLE</th>\n",
       "      <td>KEGG_CITRATE_CYCLE_TCA_CYCLE\\thttp://www.broad...</td>\n",
       "    </tr>\n",
       "    <tr>\n",
       "      <th>KEGG_PENTOSE_PHOSPHATE_PATHWAY</th>\n",
       "      <td>KEGG_PENTOSE_PHOSPHATE_PATHWAY\\thttp://www.bro...</td>\n",
       "    </tr>\n",
       "    <tr>\n",
       "      <th>KEGG_PENTOSE_AND_GLUCURONATE_INTERCONVERSIONS</th>\n",
       "      <td>KEGG_PENTOSE_AND_GLUCURONATE_INTERCONVERSIONS\\...</td>\n",
       "    </tr>\n",
       "    <tr>\n",
       "      <th>KEGG_FRUCTOSE_AND_MANNOSE_METABOLISM</th>\n",
       "      <td>KEGG_FRUCTOSE_AND_MANNOSE_METABOLISM\\thttp://w...</td>\n",
       "    </tr>\n",
       "  </tbody>\n",
       "</table>\n",
       "</div>"
      ],
      "text/plain": [
       "                                                                                      GeneSymbol\n",
       "GeneSymbol                                                                                      \n",
       "KEGG_GLYCOLYSIS_GLUCONEOGENESIS                KEGG_GLYCOLYSIS_GLUCONEOGENESIS\\thttp://www.br...\n",
       "KEGG_CITRATE_CYCLE_TCA_CYCLE                   KEGG_CITRATE_CYCLE_TCA_CYCLE\\thttp://www.broad...\n",
       "KEGG_PENTOSE_PHOSPHATE_PATHWAY                 KEGG_PENTOSE_PHOSPHATE_PATHWAY\\thttp://www.bro...\n",
       "KEGG_PENTOSE_AND_GLUCURONATE_INTERCONVERSIONS  KEGG_PENTOSE_AND_GLUCURONATE_INTERCONVERSIONS\\...\n",
       "KEGG_FRUCTOSE_AND_MANNOSE_METABOLISM           KEGG_FRUCTOSE_AND_MANNOSE_METABOLISM\\thttp://w..."
      ]
     },
     "execution_count": 6,
     "metadata": {},
     "output_type": "execute_result"
    }
   ],
   "source": [
    "msigdb.index = msigdb['GeneSymbol'].str.split('\\t', 1).str[0]\n",
    "msigdb.head()"
   ]
  },
  {
   "cell_type": "code",
   "execution_count": 7,
   "metadata": {},
   "outputs": [
    {
     "data": {
      "text/html": [
       "<div>\n",
       "<style scoped>\n",
       "    .dataframe tbody tr th:only-of-type {\n",
       "        vertical-align: middle;\n",
       "    }\n",
       "\n",
       "    .dataframe tbody tr th {\n",
       "        vertical-align: top;\n",
       "    }\n",
       "\n",
       "    .dataframe thead th {\n",
       "        text-align: right;\n",
       "    }\n",
       "</style>\n",
       "<table border=\"1\" class=\"dataframe\">\n",
       "  <thead>\n",
       "    <tr style=\"text-align: right;\">\n",
       "      <th></th>\n",
       "      <th>GeneSymbol</th>\n",
       "    </tr>\n",
       "  </thead>\n",
       "  <tbody>\n",
       "    <tr>\n",
       "      <th>KEGG_GLYCOLYSIS_GLUCONEOGENESIS</th>\n",
       "      <td>[ACSS2, GCK, PGK2, PGK1, PDHB, PDHA1, PDHA2, P...</td>\n",
       "    </tr>\n",
       "    <tr>\n",
       "      <th>KEGG_CITRATE_CYCLE_TCA_CYCLE</th>\n",
       "      <td>[IDH3B, DLST, PCK2, CS, PDHB, PCK1, PDHA1, LOC...</td>\n",
       "    </tr>\n",
       "    <tr>\n",
       "      <th>KEGG_PENTOSE_PHOSPHATE_PATHWAY</th>\n",
       "      <td>[RPE, RPIA, PGM2, PGLS, PRPS2, FBP2, PFKM, PFK...</td>\n",
       "    </tr>\n",
       "    <tr>\n",
       "      <th>KEGG_PENTOSE_AND_GLUCURONATE_INTERCONVERSIONS</th>\n",
       "      <td>[UGT1A10, UGT1A8, RPE, UGT1A7, UGT1A6, UGT2B28...</td>\n",
       "    </tr>\n",
       "    <tr>\n",
       "      <th>KEGG_FRUCTOSE_AND_MANNOSE_METABOLISM</th>\n",
       "      <td>[MPI, PMM2, PMM1, FBP2, PFKM, GMDS, PFKFB4, PF...</td>\n",
       "    </tr>\n",
       "  </tbody>\n",
       "</table>\n",
       "</div>"
      ],
      "text/plain": [
       "                                                                                      GeneSymbol\n",
       "KEGG_GLYCOLYSIS_GLUCONEOGENESIS                [ACSS2, GCK, PGK2, PGK1, PDHB, PDHA1, PDHA2, P...\n",
       "KEGG_CITRATE_CYCLE_TCA_CYCLE                   [IDH3B, DLST, PCK2, CS, PDHB, PCK1, PDHA1, LOC...\n",
       "KEGG_PENTOSE_PHOSPHATE_PATHWAY                 [RPE, RPIA, PGM2, PGLS, PRPS2, FBP2, PFKM, PFK...\n",
       "KEGG_PENTOSE_AND_GLUCURONATE_INTERCONVERSIONS  [UGT1A10, UGT1A8, RPE, UGT1A7, UGT1A6, UGT2B28...\n",
       "KEGG_FRUCTOSE_AND_MANNOSE_METABOLISM           [MPI, PMM2, PMM1, FBP2, PFKM, GMDS, PFKFB4, PF..."
      ]
     },
     "execution_count": 7,
     "metadata": {},
     "output_type": "execute_result"
    }
   ],
   "source": [
    "msigdb = msigdb.rename_axis(None)\n",
    "msigdb['GeneSymbol'] = msigdb['GeneSymbol'].str.split('\\t', 1).str[1]\n",
    "msigdb['GeneSymbol'] = msigdb['GeneSymbol'].str.split('\\t', 1).str[1].str.split('\\t')\n",
    "msigdb.head()"
   ]
  },
  {
   "cell_type": "code",
   "execution_count": 8,
   "metadata": {},
   "outputs": [
    {
     "data": {
      "text/html": [
       "<div>\n",
       "<style scoped>\n",
       "    .dataframe tbody tr th:only-of-type {\n",
       "        vertical-align: middle;\n",
       "    }\n",
       "\n",
       "    .dataframe tbody tr th {\n",
       "        vertical-align: top;\n",
       "    }\n",
       "\n",
       "    .dataframe thead th {\n",
       "        text-align: right;\n",
       "    }\n",
       "</style>\n",
       "<table border=\"1\" class=\"dataframe\">\n",
       "  <thead>\n",
       "    <tr style=\"text-align: right;\">\n",
       "      <th></th>\n",
       "      <th>GeneSymbol</th>\n",
       "    </tr>\n",
       "  </thead>\n",
       "  <tbody>\n",
       "    <tr>\n",
       "      <th>Glycolysis Gluconeogenesis (KEGG)</th>\n",
       "      <td>[ACSS2, GCK, PGK2, PGK1, PDHB, PDHA1, PDHA2, P...</td>\n",
       "    </tr>\n",
       "    <tr>\n",
       "      <th>Citrate Cycle Tca Cycle (KEGG)</th>\n",
       "      <td>[IDH3B, DLST, PCK2, CS, PDHB, PCK1, PDHA1, LOC...</td>\n",
       "    </tr>\n",
       "    <tr>\n",
       "      <th>Pentose Phosphate Pathway (KEGG)</th>\n",
       "      <td>[RPE, RPIA, PGM2, PGLS, PRPS2, FBP2, PFKM, PFK...</td>\n",
       "    </tr>\n",
       "    <tr>\n",
       "      <th>Pentose And Glucuronate Interconversions (KEGG)</th>\n",
       "      <td>[UGT1A10, UGT1A8, RPE, UGT1A7, UGT1A6, UGT2B28...</td>\n",
       "    </tr>\n",
       "    <tr>\n",
       "      <th>Fructose And Mannose Metabolism (KEGG)</th>\n",
       "      <td>[MPI, PMM2, PMM1, FBP2, PFKM, GMDS, PFKFB4, PF...</td>\n",
       "    </tr>\n",
       "  </tbody>\n",
       "</table>\n",
       "</div>"
      ],
      "text/plain": [
       "                                                                                        GeneSymbol\n",
       "Glycolysis Gluconeogenesis (KEGG)                [ACSS2, GCK, PGK2, PGK1, PDHB, PDHA1, PDHA2, P...\n",
       "Citrate Cycle Tca Cycle (KEGG)                   [IDH3B, DLST, PCK2, CS, PDHB, PCK1, PDHA1, LOC...\n",
       "Pentose Phosphate Pathway (KEGG)                 [RPE, RPIA, PGM2, PGLS, PRPS2, FBP2, PFKM, PFK...\n",
       "Pentose And Glucuronate Interconversions (KEGG)  [UGT1A10, UGT1A8, RPE, UGT1A7, UGT1A6, UGT2B28...\n",
       "Fructose And Mannose Metabolism (KEGG)           [MPI, PMM2, PMM1, FBP2, PFKM, GMDS, PFKFB4, PF..."
      ]
     },
     "execution_count": 8,
     "metadata": {},
     "output_type": "execute_result"
    }
   ],
   "source": [
    "msigdb.index = msigdb.index.str.split('_', 1).str[1].str.replace('_', ' ').str.title().map(str) + ' (' + msigdb.index.str.split('_', 1).str[0] + ')'\n",
    "msigdb.head()"
   ]
  },
  {
   "cell_type": "code",
   "execution_count": 10,
   "metadata": {},
   "outputs": [],
   "source": [
    "msigdb['GeneSymbol'].to_json('/Users/alex/Documents/abcd1/json/msigdb_pathway_genes.json')"
   ]
  },
  {
   "cell_type": "code",
   "execution_count": 10,
   "metadata": {},
   "outputs": [],
   "source": [
    "pd.concat([go, msigdb])['GeneSymbol'].to_pickle('./human_gene_sets.pickle')"
   ]
  },
  {
   "cell_type": "code",
   "execution_count": 11,
   "metadata": {},
   "outputs": [],
   "source": [
    "pd.concat([go, msigdb])['GeneSymbol'].to_json('/Users/alex/Documents/abcd1/json/all_gene_sets.json')"
   ]
  },
  {
   "cell_type": "markdown",
   "metadata": {},
   "source": [
    "## III. Serialize Mouse Gene Ontology to JSON"
   ]
  },
  {
   "cell_type": "code",
   "execution_count": 15,
   "metadata": {},
   "outputs": [
    {
     "data": {
      "text/html": [
       "<div>\n",
       "<style scoped>\n",
       "    .dataframe tbody tr th:only-of-type {\n",
       "        vertical-align: middle;\n",
       "    }\n",
       "\n",
       "    .dataframe tbody tr th {\n",
       "        vertical-align: top;\n",
       "    }\n",
       "\n",
       "    .dataframe thead th {\n",
       "        text-align: right;\n",
       "    }\n",
       "</style>\n",
       "<table border=\"1\" class=\"dataframe\">\n",
       "  <thead>\n",
       "    <tr style=\"text-align: right;\">\n",
       "      <th></th>\n",
       "      <th>tax_id</th>\n",
       "      <th>GeneSymbol</th>\n",
       "      <th>GO_ID</th>\n",
       "      <th>Evidence</th>\n",
       "      <th>GO_term</th>\n",
       "      <th>Category</th>\n",
       "    </tr>\n",
       "  </thead>\n",
       "  <tbody>\n",
       "    <tr>\n",
       "      <th>0</th>\n",
       "      <td>10090</td>\n",
       "      <td>0610005C13Rik</td>\n",
       "      <td>GO:0003674</td>\n",
       "      <td>ND</td>\n",
       "      <td>molecular_function</td>\n",
       "      <td>Function</td>\n",
       "    </tr>\n",
       "    <tr>\n",
       "      <th>1</th>\n",
       "      <td>10090</td>\n",
       "      <td>0610005C13Rik</td>\n",
       "      <td>GO:0005575</td>\n",
       "      <td>ND</td>\n",
       "      <td>cellular_component</td>\n",
       "      <td>Component</td>\n",
       "    </tr>\n",
       "    <tr>\n",
       "      <th>2</th>\n",
       "      <td>10090</td>\n",
       "      <td>0610005C13Rik</td>\n",
       "      <td>GO:0008150</td>\n",
       "      <td>ND</td>\n",
       "      <td>biological_process</td>\n",
       "      <td>Process</td>\n",
       "    </tr>\n",
       "    <tr>\n",
       "      <th>3</th>\n",
       "      <td>10090</td>\n",
       "      <td>0610006L08Rik</td>\n",
       "      <td>GO:0003674</td>\n",
       "      <td>ND</td>\n",
       "      <td>molecular_function</td>\n",
       "      <td>Function</td>\n",
       "    </tr>\n",
       "    <tr>\n",
       "      <th>4</th>\n",
       "      <td>10090</td>\n",
       "      <td>0610006L08Rik</td>\n",
       "      <td>GO:0005575</td>\n",
       "      <td>ND</td>\n",
       "      <td>cellular_component</td>\n",
       "      <td>Component</td>\n",
       "    </tr>\n",
       "  </tbody>\n",
       "</table>\n",
       "</div>"
      ],
      "text/plain": [
       "   tax_id     GeneSymbol       GO_ID Evidence             GO_term   Category\n",
       "0   10090  0610005C13Rik  GO:0003674       ND  molecular_function   Function\n",
       "1   10090  0610005C13Rik  GO:0005575       ND  cellular_component  Component\n",
       "2   10090  0610005C13Rik  GO:0008150       ND  biological_process    Process\n",
       "3   10090  0610006L08Rik  GO:0003674       ND  molecular_function   Function\n",
       "4   10090  0610006L08Rik  GO:0005575       ND  cellular_component  Component"
      ]
     },
     "execution_count": 15,
     "metadata": {},
     "output_type": "execute_result"
    }
   ],
   "source": [
    "go = pd.read_csv('./mouse_go/mouse2go.csv')\n",
    "go.head()"
   ]
  },
  {
   "cell_type": "code",
   "execution_count": 16,
   "metadata": {},
   "outputs": [],
   "source": [
    "go = go[go.Category == 'Process']"
   ]
  },
  {
   "cell_type": "code",
   "execution_count": 17,
   "metadata": {},
   "outputs": [
    {
     "data": {
      "text/html": [
       "<div>\n",
       "<style scoped>\n",
       "    .dataframe tbody tr th:only-of-type {\n",
       "        vertical-align: middle;\n",
       "    }\n",
       "\n",
       "    .dataframe tbody tr th {\n",
       "        vertical-align: top;\n",
       "    }\n",
       "\n",
       "    .dataframe thead th {\n",
       "        text-align: right;\n",
       "    }\n",
       "</style>\n",
       "<table border=\"1\" class=\"dataframe\">\n",
       "  <thead>\n",
       "    <tr style=\"text-align: right;\">\n",
       "      <th></th>\n",
       "      <th></th>\n",
       "      <th>GeneSymbol</th>\n",
       "    </tr>\n",
       "    <tr>\n",
       "      <th>GO_term</th>\n",
       "      <th>GO_ID</th>\n",
       "      <th></th>\n",
       "    </tr>\n",
       "  </thead>\n",
       "  <tbody>\n",
       "    <tr>\n",
       "      <th>'de novo' AMP biosynthetic process</th>\n",
       "      <th>GO:0044208</th>\n",
       "      <td>[Adsl, Adss, Adssl1]</td>\n",
       "    </tr>\n",
       "    <tr>\n",
       "      <th>'de novo' GDP-L-fucose biosynthetic process</th>\n",
       "      <th>GO:0042351</th>\n",
       "      <td>[Tsta3]</td>\n",
       "    </tr>\n",
       "    <tr>\n",
       "      <th>'de novo' IMP biosynthetic process</th>\n",
       "      <th>GO:0006189</th>\n",
       "      <td>[Atic, Gart, Paics, Pfas]</td>\n",
       "    </tr>\n",
       "    <tr>\n",
       "      <th>'de novo' L-methionine biosynthetic process</th>\n",
       "      <th>GO:0071266</th>\n",
       "      <td>[Cth]</td>\n",
       "    </tr>\n",
       "    <tr>\n",
       "      <th>'de novo' NAD biosynthetic process from aspartate</th>\n",
       "      <th>GO:0034628</th>\n",
       "      <td>[Nmnat1, Nmnat2, Nmnat3]</td>\n",
       "    </tr>\n",
       "  </tbody>\n",
       "</table>\n",
       "</div>"
      ],
      "text/plain": [
       "                                                                             GeneSymbol\n",
       "GO_term                                           GO_ID                                \n",
       "'de novo' AMP biosynthetic process                GO:0044208       [Adsl, Adss, Adssl1]\n",
       "'de novo' GDP-L-fucose biosynthetic process       GO:0042351                    [Tsta3]\n",
       "'de novo' IMP biosynthetic process                GO:0006189  [Atic, Gart, Paics, Pfas]\n",
       "'de novo' L-methionine biosynthetic process       GO:0071266                      [Cth]\n",
       "'de novo' NAD biosynthetic process from aspartate GO:0034628   [Nmnat1, Nmnat2, Nmnat3]"
      ]
     },
     "execution_count": 17,
     "metadata": {},
     "output_type": "execute_result"
    }
   ],
   "source": [
    "go = (go.groupby(['GO_term', 'GO_ID'])['GeneSymbol'].apply(list)).to_frame()\n",
    "go.head()"
   ]
  },
  {
   "cell_type": "code",
   "execution_count": 18,
   "metadata": {},
   "outputs": [
    {
     "data": {
      "text/html": [
       "<div>\n",
       "<style scoped>\n",
       "    .dataframe tbody tr th:only-of-type {\n",
       "        vertical-align: middle;\n",
       "    }\n",
       "\n",
       "    .dataframe tbody tr th {\n",
       "        vertical-align: top;\n",
       "    }\n",
       "\n",
       "    .dataframe thead th {\n",
       "        text-align: right;\n",
       "    }\n",
       "</style>\n",
       "<table border=\"1\" class=\"dataframe\">\n",
       "  <thead>\n",
       "    <tr style=\"text-align: right;\">\n",
       "      <th></th>\n",
       "      <th>GeneSymbol</th>\n",
       "    </tr>\n",
       "  </thead>\n",
       "  <tbody>\n",
       "    <tr>\n",
       "      <th>'de novo' AMP biosynthetic process (GO:0044208)</th>\n",
       "      <td>[Adsl, Adss, Adssl1]</td>\n",
       "    </tr>\n",
       "    <tr>\n",
       "      <th>'de novo' GDP-L-fucose biosynthetic process (GO:0042351)</th>\n",
       "      <td>[Tsta3]</td>\n",
       "    </tr>\n",
       "    <tr>\n",
       "      <th>'de novo' IMP biosynthetic process (GO:0006189)</th>\n",
       "      <td>[Atic, Gart, Paics, Pfas]</td>\n",
       "    </tr>\n",
       "    <tr>\n",
       "      <th>'de novo' L-methionine biosynthetic process (GO:0071266)</th>\n",
       "      <td>[Cth]</td>\n",
       "    </tr>\n",
       "    <tr>\n",
       "      <th>'de novo' NAD biosynthetic process from aspartate (GO:0034628)</th>\n",
       "      <td>[Nmnat1, Nmnat2, Nmnat3]</td>\n",
       "    </tr>\n",
       "  </tbody>\n",
       "</table>\n",
       "</div>"
      ],
      "text/plain": [
       "                                                                   GeneSymbol\n",
       "'de novo' AMP biosynthetic process (GO:0044208)          [Adsl, Adss, Adssl1]\n",
       "'de novo' GDP-L-fucose biosynthetic process (GO...                    [Tsta3]\n",
       "'de novo' IMP biosynthetic process (GO:0006189)     [Atic, Gart, Paics, Pfas]\n",
       "'de novo' L-methionine biosynthetic process (GO...                      [Cth]\n",
       "'de novo' NAD biosynthetic process from asparta...   [Nmnat1, Nmnat2, Nmnat3]"
      ]
     },
     "execution_count": 18,
     "metadata": {},
     "output_type": "execute_result"
    }
   ],
   "source": [
    "go.index = go.reset_index()['GO_term'].map(str) + ' (' + go.reset_index()['GO_ID'] + ')'\n",
    "go.head()"
   ]
  },
  {
   "cell_type": "code",
   "execution_count": 19,
   "metadata": {},
   "outputs": [],
   "source": [
    "go.to_json('/Users/alex/Documents/abcd1/json/mouse_biological_process_genes.json')"
   ]
  },
  {
   "cell_type": "code",
   "execution_count": null,
   "metadata": {},
   "outputs": [],
   "source": []
  }
 ],
 "metadata": {
  "kernelspec": {
   "display_name": "Python 3",
   "language": "python",
   "name": "python3"
  },
  "language_info": {
   "codemirror_mode": {
    "name": "ipython",
    "version": 3
   },
   "file_extension": ".py",
   "mimetype": "text/x-python",
   "name": "python",
   "nbconvert_exporter": "python",
   "pygments_lexer": "ipython3",
   "version": "3.7.0"
  }
 },
 "nbformat": 4,
 "nbformat_minor": 2
}
