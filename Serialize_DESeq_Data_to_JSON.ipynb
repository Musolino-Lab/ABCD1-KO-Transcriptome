{
 "cells": [
  {
   "cell_type": "markdown",
   "metadata": {},
   "source": [
    "# Serializing data to JSON for visualization"
   ]
  },
  {
   "cell_type": "code",
   "execution_count": 1,
   "metadata": {},
   "outputs": [],
   "source": [
    "%matplotlib inline\n",
    "import numpy as np\n",
    "import pandas as pd\n",
    "import seaborn as sns\n",
    "sns.set_style(\"whitegrid\")"
   ]
  },
  {
   "cell_type": "markdown",
   "metadata": {},
   "source": [
    "## I. Serialize LogFC to JSON"
   ]
  },
  {
   "cell_type": "markdown",
   "metadata": {},
   "source": [
    "### Human"
   ]
  },
  {
   "cell_type": "code",
   "execution_count": 2,
   "metadata": {},
   "outputs": [
    {
     "data": {
      "text/html": [
       "<div>\n",
       "<style scoped>\n",
       "    .dataframe tbody tr th:only-of-type {\n",
       "        vertical-align: middle;\n",
       "    }\n",
       "\n",
       "    .dataframe tbody tr th {\n",
       "        vertical-align: top;\n",
       "    }\n",
       "\n",
       "    .dataframe thead th {\n",
       "        text-align: right;\n",
       "    }\n",
       "</style>\n",
       "<table border=\"1\" class=\"dataframe\">\n",
       "  <thead>\n",
       "    <tr style=\"text-align: right;\">\n",
       "      <th></th>\n",
       "      <th>Base mean</th>\n",
       "      <th>log2(FC)</th>\n",
       "      <th>StdErr</th>\n",
       "      <th>Wald-Stats</th>\n",
       "      <th>P-value</th>\n",
       "      <th>P-adj</th>\n",
       "    </tr>\n",
       "    <tr>\n",
       "      <th>GeneID</th>\n",
       "      <th></th>\n",
       "      <th></th>\n",
       "      <th></th>\n",
       "      <th></th>\n",
       "      <th></th>\n",
       "      <th></th>\n",
       "    </tr>\n",
       "  </thead>\n",
       "  <tbody>\n",
       "    <tr>\n",
       "      <th>TAGLN2</th>\n",
       "      <td>3702.951794</td>\n",
       "      <td>-2.954344</td>\n",
       "      <td>0.056286</td>\n",
       "      <td>52.488180</td>\n",
       "      <td>0.0</td>\n",
       "      <td>0.0</td>\n",
       "    </tr>\n",
       "    <tr>\n",
       "      <th>UHMK1</th>\n",
       "      <td>3543.839403</td>\n",
       "      <td>-3.225018</td>\n",
       "      <td>0.067672</td>\n",
       "      <td>47.656533</td>\n",
       "      <td>0.0</td>\n",
       "      <td>0.0</td>\n",
       "    </tr>\n",
       "    <tr>\n",
       "      <th>CSRP1</th>\n",
       "      <td>4592.587776</td>\n",
       "      <td>1.856967</td>\n",
       "      <td>0.046232</td>\n",
       "      <td>-40.165842</td>\n",
       "      <td>0.0</td>\n",
       "      <td>0.0</td>\n",
       "    </tr>\n",
       "    <tr>\n",
       "      <th>CAPN2</th>\n",
       "      <td>10417.715365</td>\n",
       "      <td>2.116233</td>\n",
       "      <td>0.045564</td>\n",
       "      <td>-46.445277</td>\n",
       "      <td>0.0</td>\n",
       "      <td>0.0</td>\n",
       "    </tr>\n",
       "    <tr>\n",
       "      <th>RHOB</th>\n",
       "      <td>10401.154292</td>\n",
       "      <td>-1.758295</td>\n",
       "      <td>0.045384</td>\n",
       "      <td>38.742385</td>\n",
       "      <td>0.0</td>\n",
       "      <td>0.0</td>\n",
       "    </tr>\n",
       "  </tbody>\n",
       "</table>\n",
       "</div>"
      ],
      "text/plain": [
       "           Base mean  log2(FC)    StdErr  Wald-Stats  P-value  P-adj\n",
       "GeneID                                                              \n",
       "TAGLN2   3702.951794 -2.954344  0.056286   52.488180      0.0    0.0\n",
       "UHMK1    3543.839403 -3.225018  0.067672   47.656533      0.0    0.0\n",
       "CSRP1    4592.587776  1.856967  0.046232  -40.165842      0.0    0.0\n",
       "CAPN2   10417.715365  2.116233  0.045564  -46.445277      0.0    0.0\n",
       "RHOB    10401.154292 -1.758295  0.045384   38.742385      0.0    0.0"
      ]
     },
     "execution_count": 2,
     "metadata": {},
     "output_type": "execute_result"
    }
   ],
   "source": [
    "human = pd.read_csv('DESeq2_data/Yamuna/Human_NT_vs_ABCD1_DESeq2_results.tsv', sep='\\t', header=None, names=['GeneID','Base mean','log2(FC)','StdErr','Wald-Stats','P-value','P-adj']).set_index('GeneID')\n",
    "human['log2(FC)'] = human['log2(FC)'] * -1\n",
    "human.head()"
   ]
  },
  {
   "cell_type": "code",
   "execution_count": 3,
   "metadata": {},
   "outputs": [],
   "source": [
    "human['log2(FC)'].to_json('./web/human_logFC.json')"
   ]
  },
  {
   "cell_type": "markdown",
   "metadata": {},
   "source": [
    "### Mouse"
   ]
  },
  {
   "cell_type": "code",
   "execution_count": 4,
   "metadata": {
    "scrolled": true
   },
   "outputs": [
    {
     "data": {
      "text/html": [
       "<div>\n",
       "<style scoped>\n",
       "    .dataframe tbody tr th:only-of-type {\n",
       "        vertical-align: middle;\n",
       "    }\n",
       "\n",
       "    .dataframe tbody tr th {\n",
       "        vertical-align: top;\n",
       "    }\n",
       "\n",
       "    .dataframe thead th {\n",
       "        text-align: right;\n",
       "    }\n",
       "</style>\n",
       "<table border=\"1\" class=\"dataframe\">\n",
       "  <thead>\n",
       "    <tr style=\"text-align: right;\">\n",
       "      <th></th>\n",
       "      <th>Base mean</th>\n",
       "      <th>log2(FC)</th>\n",
       "      <th>StdErr</th>\n",
       "      <th>Wald-Stats</th>\n",
       "      <th>P-value</th>\n",
       "      <th>P-adj</th>\n",
       "    </tr>\n",
       "    <tr>\n",
       "      <th>GeneID</th>\n",
       "      <th></th>\n",
       "      <th></th>\n",
       "      <th></th>\n",
       "      <th></th>\n",
       "      <th></th>\n",
       "      <th></th>\n",
       "    </tr>\n",
       "  </thead>\n",
       "  <tbody>\n",
       "    <tr>\n",
       "      <th>Timp2</th>\n",
       "      <td>6898.429574</td>\n",
       "      <td>3.955563</td>\n",
       "      <td>0.096145</td>\n",
       "      <td>-41.141552</td>\n",
       "      <td>0.000000e+00</td>\n",
       "      <td>0.000000e+00</td>\n",
       "    </tr>\n",
       "    <tr>\n",
       "      <th>Tmbim6</th>\n",
       "      <td>6188.554131</td>\n",
       "      <td>1.990989</td>\n",
       "      <td>0.063462</td>\n",
       "      <td>-31.372878</td>\n",
       "      <td>4.744136e-216</td>\n",
       "      <td>4.415842e-212</td>\n",
       "    </tr>\n",
       "    <tr>\n",
       "      <th>Cdc34</th>\n",
       "      <td>1881.032867</td>\n",
       "      <td>-2.176991</td>\n",
       "      <td>0.075121</td>\n",
       "      <td>28.979662</td>\n",
       "      <td>1.187292e-184</td>\n",
       "      <td>7.367543e-181</td>\n",
       "    </tr>\n",
       "    <tr>\n",
       "      <th>Lipa</th>\n",
       "      <td>3256.752104</td>\n",
       "      <td>2.064111</td>\n",
       "      <td>0.072635</td>\n",
       "      <td>-28.417525</td>\n",
       "      <td>1.228353e-177</td>\n",
       "      <td>5.716754e-174</td>\n",
       "    </tr>\n",
       "    <tr>\n",
       "      <th>Selp</th>\n",
       "      <td>3124.381122</td>\n",
       "      <td>-2.682026</td>\n",
       "      <td>0.102079</td>\n",
       "      <td>26.273974</td>\n",
       "      <td>3.804801e-152</td>\n",
       "      <td>1.416603e-148</td>\n",
       "    </tr>\n",
       "  </tbody>\n",
       "</table>\n",
       "</div>"
      ],
      "text/plain": [
       "          Base mean  log2(FC)    StdErr  Wald-Stats        P-value  \\\n",
       "GeneID                                                               \n",
       "Timp2   6898.429574  3.955563  0.096145  -41.141552   0.000000e+00   \n",
       "Tmbim6  6188.554131  1.990989  0.063462  -31.372878  4.744136e-216   \n",
       "Cdc34   1881.032867 -2.176991  0.075121   28.979662  1.187292e-184   \n",
       "Lipa    3256.752104  2.064111  0.072635  -28.417525  1.228353e-177   \n",
       "Selp    3124.381122 -2.682026  0.102079   26.273974  3.804801e-152   \n",
       "\n",
       "                P-adj  \n",
       "GeneID                 \n",
       "Timp2    0.000000e+00  \n",
       "Tmbim6  4.415842e-212  \n",
       "Cdc34   7.367543e-181  \n",
       "Lipa    5.716754e-174  \n",
       "Selp    1.416603e-148  "
      ]
     },
     "execution_count": 4,
     "metadata": {},
     "output_type": "execute_result"
    }
   ],
   "source": [
    "mouse = pd.read_csv('DESeq2_data/Yamuna/Mouse_NT_vs_ABCD1_DESeq2_results.tsv', sep='\\t', header=None, names=['GeneID','Base mean','log2(FC)','StdErr','Wald-Stats','P-value','P-adj']).set_index('GeneID')\n",
    "mouse['log2(FC)'] = mouse['log2(FC)'] * -1\n",
    "mouse.head()"
   ]
  },
  {
   "cell_type": "code",
   "execution_count": 5,
   "metadata": {},
   "outputs": [],
   "source": [
    "mouse['log2(FC)'].to_json('./web/mouse_logFC.json')"
   ]
  },
  {
   "cell_type": "markdown",
   "metadata": {},
   "source": [
    "### Lee"
   ]
  },
  {
   "cell_type": "code",
   "execution_count": 21,
   "metadata": {},
   "outputs": [
    {
     "data": {
      "text/html": [
       "<div>\n",
       "<style scoped>\n",
       "    .dataframe tbody tr th:only-of-type {\n",
       "        vertical-align: middle;\n",
       "    }\n",
       "\n",
       "    .dataframe tbody tr th {\n",
       "        vertical-align: top;\n",
       "    }\n",
       "\n",
       "    .dataframe thead th {\n",
       "        text-align: right;\n",
       "    }\n",
       "</style>\n",
       "<table border=\"1\" class=\"dataframe\">\n",
       "  <thead>\n",
       "    <tr style=\"text-align: right;\">\n",
       "      <th></th>\n",
       "      <th>Base mean</th>\n",
       "      <th>log2(FC)</th>\n",
       "      <th>StdErr</th>\n",
       "      <th>Wald-Stats</th>\n",
       "      <th>P-value</th>\n",
       "      <th>P-adj</th>\n",
       "    </tr>\n",
       "    <tr>\n",
       "      <th>GeneID</th>\n",
       "      <th></th>\n",
       "      <th></th>\n",
       "      <th></th>\n",
       "      <th></th>\n",
       "      <th></th>\n",
       "      <th></th>\n",
       "    </tr>\n",
       "  </thead>\n",
       "  <tbody>\n",
       "    <tr>\n",
       "      <th>CTSF</th>\n",
       "      <td>530.623969</td>\n",
       "      <td>7.625389</td>\n",
       "      <td>0.305383</td>\n",
       "      <td>24.969883</td>\n",
       "      <td>1.298958e-137</td>\n",
       "      <td>3.458606e-133</td>\n",
       "    </tr>\n",
       "    <tr>\n",
       "      <th>AC006039.4</th>\n",
       "      <td>69.056857</td>\n",
       "      <td>2.395232</td>\n",
       "      <td>0.188938</td>\n",
       "      <td>12.677335</td>\n",
       "      <td>7.897114e-37</td>\n",
       "      <td>1.051343e-32</td>\n",
       "    </tr>\n",
       "    <tr>\n",
       "      <th>PRSS12</th>\n",
       "      <td>5631.132313</td>\n",
       "      <td>2.155079</td>\n",
       "      <td>0.171747</td>\n",
       "      <td>12.548020</td>\n",
       "      <td>4.075745e-36</td>\n",
       "      <td>3.617360e-32</td>\n",
       "    </tr>\n",
       "    <tr>\n",
       "      <th>SOX7</th>\n",
       "      <td>612.479651</td>\n",
       "      <td>2.390252</td>\n",
       "      <td>0.203622</td>\n",
       "      <td>11.738663</td>\n",
       "      <td>8.075288e-32</td>\n",
       "      <td>5.375316e-28</td>\n",
       "    </tr>\n",
       "    <tr>\n",
       "      <th>SLC1A6</th>\n",
       "      <td>345.256285</td>\n",
       "      <td>2.108443</td>\n",
       "      <td>0.181737</td>\n",
       "      <td>11.601616</td>\n",
       "      <td>4.043717e-31</td>\n",
       "      <td>2.153360e-27</td>\n",
       "    </tr>\n",
       "  </tbody>\n",
       "</table>\n",
       "</div>"
      ],
      "text/plain": [
       "              Base mean  log2(FC)    StdErr  Wald-Stats        P-value  \\\n",
       "GeneID                                                                   \n",
       "CTSF         530.623969  7.625389  0.305383   24.969883  1.298958e-137   \n",
       "AC006039.4    69.056857  2.395232  0.188938   12.677335   7.897114e-37   \n",
       "PRSS12      5631.132313  2.155079  0.171747   12.548020   4.075745e-36   \n",
       "SOX7         612.479651  2.390252  0.203622   11.738663   8.075288e-32   \n",
       "SLC1A6       345.256285  2.108443  0.181737   11.601616   4.043717e-31   \n",
       "\n",
       "                    P-adj  \n",
       "GeneID                     \n",
       "CTSF        3.458606e-133  \n",
       "AC006039.4   1.051343e-32  \n",
       "PRSS12       3.617360e-32  \n",
       "SOX7         5.375316e-28  \n",
       "SLC1A6       2.153360e-27  "
      ]
     },
     "execution_count": 21,
     "metadata": {},
     "output_type": "execute_result"
    }
   ],
   "source": [
    "lee = pd.read_csv('DESeq2_data/Lee/Lee_DESeq2.tsv', sep='\\t', header=None, names=['GeneID','Base mean','log2(FC)','StdErr','Wald-Stats','P-value','P-adj']).set_index('GeneID')\n",
    "lee.head()"
   ]
  },
  {
   "cell_type": "code",
   "execution_count": 22,
   "metadata": {},
   "outputs": [],
   "source": [
    "lee['log2(FC)'].to_json('./web/lee_logFC.json')"
   ]
  },
  {
   "cell_type": "markdown",
   "metadata": {},
   "source": [
    "## II. Serialize LogFC & P-Adj (q-val) to JSON"
   ]
  },
  {
   "cell_type": "markdown",
   "metadata": {},
   "source": [
    "### Human"
   ]
  },
  {
   "cell_type": "code",
   "execution_count": 6,
   "metadata": {},
   "outputs": [
    {
     "name": "stdout",
     "output_type": "stream",
     "text": [
      "max q-val: 302.671025009\n"
     ]
    },
    {
     "name": "stderr",
     "output_type": "stream",
     "text": [
      "/Users/alex/Documents/abcd1/venv/lib/python3.6/site-packages/ipykernel_launcher.py:1: RuntimeWarning: divide by zero encountered in log10\n",
      "  \"\"\"Entry point for launching an IPython kernel.\n"
     ]
    }
   ],
   "source": [
    "human['q'] = -np.log10(human['P-adj'])\n",
    "human_max_finite_log_qVal = np.max(human['q'][np.isfinite(human['q'])])\n",
    "human['q'] = np.around(np.clip(human['q'], 0, human_max_finite_log_qVal), decimals=3)\n",
    "print(\"max q-val: \" + str(human_max_finite_log_qVal))\n",
    "\n",
    "human['logFC'] = np.around(human['log2(FC)'], decimals=3)"
   ]
  },
  {
   "cell_type": "code",
   "execution_count": 7,
   "metadata": {},
   "outputs": [],
   "source": [
    "human[['logFC', 'q']].to_json('./web/human_logFC_qVal.json', orient='index')"
   ]
  },
  {
   "cell_type": "markdown",
   "metadata": {},
   "source": [
    "### Mouse"
   ]
  },
  {
   "cell_type": "code",
   "execution_count": 8,
   "metadata": {},
   "outputs": [
    {
     "name": "stdout",
     "output_type": "stream",
     "text": [
      "max q-val: 211.354986486\n"
     ]
    },
    {
     "name": "stderr",
     "output_type": "stream",
     "text": [
      "/Users/alex/Documents/abcd1/venv/lib/python3.6/site-packages/ipykernel_launcher.py:1: RuntimeWarning: divide by zero encountered in log10\n",
      "  \"\"\"Entry point for launching an IPython kernel.\n"
     ]
    }
   ],
   "source": [
    "mouse['q'] = -np.log10(mouse['P-adj'])\n",
    "mouse_max_finite_log_qVal = np.max(mouse['q'][np.isfinite(mouse['q'])])\n",
    "mouse['q'] = np.around(np.clip(mouse['q'], 0, mouse_max_finite_log_qVal), decimals=3)\n",
    "print(\"max q-val: \" + str(mouse_max_finite_log_qVal))\n",
    "\n",
    "mouse['logFC'] = np.around(mouse['log2(FC)'], decimals=3)"
   ]
  },
  {
   "cell_type": "code",
   "execution_count": 9,
   "metadata": {},
   "outputs": [],
   "source": [
    "mouse[['logFC', 'q']].to_json('./web/mouse_logFC_qVal.json', orient='index')"
   ]
  },
  {
   "cell_type": "markdown",
   "metadata": {},
   "source": [
    "### Lee"
   ]
  },
  {
   "cell_type": "code",
   "execution_count": 23,
   "metadata": {},
   "outputs": [
    {
     "name": "stdout",
     "output_type": "stream",
     "text": [
      "max q-val: 132.461098939\n"
     ]
    }
   ],
   "source": [
    "lee['q'] = -np.log10(lee['P-adj'])\n",
    "lee_max_finite_log_qVal = np.max(lee['q'][np.isfinite(lee['q'])])\n",
    "lee['q'] = np.around(np.clip(lee['q'], 0, lee_max_finite_log_qVal), decimals=3)\n",
    "print(\"max q-val: \" + str(lee_max_finite_log_qVal))\n",
    "\n",
    "lee['logFC'] = np.around(lee['log2(FC)'], decimals=3)"
   ]
  },
  {
   "cell_type": "code",
   "execution_count": 24,
   "metadata": {},
   "outputs": [],
   "source": [
    "lee[['logFC', 'q']].to_json('./web/lee_logFC_qVal.json', orient='index')"
   ]
  },
  {
   "cell_type": "markdown",
   "metadata": {},
   "source": [
    "## III. Serialize Normalized Counts to JSON"
   ]
  },
  {
   "cell_type": "markdown",
   "metadata": {},
   "source": [
    "### Human"
   ]
  },
  {
   "cell_type": "code",
   "execution_count": 10,
   "metadata": {},
   "outputs": [
    {
     "data": {
      "text/html": [
       "<div>\n",
       "<style scoped>\n",
       "    .dataframe tbody tr th:only-of-type {\n",
       "        vertical-align: middle;\n",
       "    }\n",
       "\n",
       "    .dataframe tbody tr th {\n",
       "        vertical-align: top;\n",
       "    }\n",
       "\n",
       "    .dataframe thead th {\n",
       "        text-align: right;\n",
       "    }\n",
       "</style>\n",
       "<table border=\"1\" class=\"dataframe\">\n",
       "  <thead>\n",
       "    <tr style=\"text-align: right;\">\n",
       "      <th></th>\n",
       "      <th>Human_ABCD1_1</th>\n",
       "      <th>Human_ABCD1_2</th>\n",
       "      <th>Human_ABCD1_3</th>\n",
       "      <th>Human_NT_1</th>\n",
       "      <th>Human_NT_2</th>\n",
       "      <th>Human_NT_3</th>\n",
       "    </tr>\n",
       "  </thead>\n",
       "  <tbody>\n",
       "    <tr>\n",
       "      <th>DDX11L1</th>\n",
       "      <td>0.000</td>\n",
       "      <td>1.217</td>\n",
       "      <td>0.920</td>\n",
       "      <td>0.000</td>\n",
       "      <td>1.988</td>\n",
       "      <td>0.867</td>\n",
       "    </tr>\n",
       "    <tr>\n",
       "      <th>WASH7P</th>\n",
       "      <td>25.774</td>\n",
       "      <td>38.939</td>\n",
       "      <td>18.398</td>\n",
       "      <td>40.293</td>\n",
       "      <td>56.661</td>\n",
       "      <td>28.625</td>\n",
       "    </tr>\n",
       "    <tr>\n",
       "      <th>MIR6859-1</th>\n",
       "      <td>9.205</td>\n",
       "      <td>8.518</td>\n",
       "      <td>7.359</td>\n",
       "      <td>11.664</td>\n",
       "      <td>2.982</td>\n",
       "      <td>6.939</td>\n",
       "    </tr>\n",
       "    <tr>\n",
       "      <th>RP11-34P13.3</th>\n",
       "      <td>0.000</td>\n",
       "      <td>0.000</td>\n",
       "      <td>0.000</td>\n",
       "      <td>0.000</td>\n",
       "      <td>0.000</td>\n",
       "      <td>0.000</td>\n",
       "    </tr>\n",
       "    <tr>\n",
       "      <th>MIR1302-2</th>\n",
       "      <td>0.000</td>\n",
       "      <td>0.000</td>\n",
       "      <td>0.000</td>\n",
       "      <td>0.000</td>\n",
       "      <td>0.000</td>\n",
       "      <td>0.000</td>\n",
       "    </tr>\n",
       "  </tbody>\n",
       "</table>\n",
       "</div>"
      ],
      "text/plain": [
       "              Human_ABCD1_1  Human_ABCD1_2  Human_ABCD1_3  Human_NT_1  \\\n",
       "DDX11L1               0.000          1.217          0.920       0.000   \n",
       "WASH7P               25.774         38.939         18.398      40.293   \n",
       "MIR6859-1             9.205          8.518          7.359      11.664   \n",
       "RP11-34P13.3          0.000          0.000          0.000       0.000   \n",
       "MIR1302-2             0.000          0.000          0.000       0.000   \n",
       "\n",
       "              Human_NT_2  Human_NT_3  \n",
       "DDX11L1            1.988       0.867  \n",
       "WASH7P            56.661      28.625  \n",
       "MIR6859-1          2.982       6.939  \n",
       "RP11-34P13.3       0.000       0.000  \n",
       "MIR1302-2          0.000       0.000  "
      ]
     },
     "execution_count": 10,
     "metadata": {},
     "output_type": "execute_result"
    }
   ],
   "source": [
    "human = pd.read_csv('DESeq2_data/Yamuna/Normalized_counts_Yamuna_human.tsv', sep='\\t', index_col=0).round(3)\n",
    "human.head()"
   ]
  },
  {
   "cell_type": "code",
   "execution_count": 11,
   "metadata": {},
   "outputs": [],
   "source": [
    "human.to_json('./web/human_counts.json')"
   ]
  },
  {
   "cell_type": "markdown",
   "metadata": {},
   "source": [
    "### Mouse"
   ]
  },
  {
   "cell_type": "code",
   "execution_count": 12,
   "metadata": {
    "scrolled": true
   },
   "outputs": [
    {
     "data": {
      "text/html": [
       "<div>\n",
       "<style scoped>\n",
       "    .dataframe tbody tr th:only-of-type {\n",
       "        vertical-align: middle;\n",
       "    }\n",
       "\n",
       "    .dataframe tbody tr th {\n",
       "        vertical-align: top;\n",
       "    }\n",
       "\n",
       "    .dataframe thead th {\n",
       "        text-align: right;\n",
       "    }\n",
       "</style>\n",
       "<table border=\"1\" class=\"dataframe\">\n",
       "  <thead>\n",
       "    <tr style=\"text-align: right;\">\n",
       "      <th></th>\n",
       "      <th>Mouse_ABCD1_1</th>\n",
       "      <th>Mouse_ABCD1_2</th>\n",
       "      <th>Mouse_ABCD1_3</th>\n",
       "      <th>Mouse_NT_1</th>\n",
       "      <th>Mouse_NT_2</th>\n",
       "      <th>Mouse_NT_3</th>\n",
       "    </tr>\n",
       "  </thead>\n",
       "  <tbody>\n",
       "    <tr>\n",
       "      <th>RP23-271O17.1</th>\n",
       "      <td>0.0</td>\n",
       "      <td>0.0</td>\n",
       "      <td>0.0</td>\n",
       "      <td>0.0</td>\n",
       "      <td>0.0</td>\n",
       "      <td>0.0</td>\n",
       "    </tr>\n",
       "    <tr>\n",
       "      <th>Gm26206</th>\n",
       "      <td>0.0</td>\n",
       "      <td>0.0</td>\n",
       "      <td>0.0</td>\n",
       "      <td>0.0</td>\n",
       "      <td>0.0</td>\n",
       "      <td>0.0</td>\n",
       "    </tr>\n",
       "    <tr>\n",
       "      <th>Xkr4</th>\n",
       "      <td>0.0</td>\n",
       "      <td>0.0</td>\n",
       "      <td>0.0</td>\n",
       "      <td>0.0</td>\n",
       "      <td>0.0</td>\n",
       "      <td>0.0</td>\n",
       "    </tr>\n",
       "    <tr>\n",
       "      <th>RP23-317L18.1</th>\n",
       "      <td>0.0</td>\n",
       "      <td>0.0</td>\n",
       "      <td>0.0</td>\n",
       "      <td>0.0</td>\n",
       "      <td>0.0</td>\n",
       "      <td>0.0</td>\n",
       "    </tr>\n",
       "    <tr>\n",
       "      <th>RP23-317L18.4</th>\n",
       "      <td>0.0</td>\n",
       "      <td>0.0</td>\n",
       "      <td>0.0</td>\n",
       "      <td>0.0</td>\n",
       "      <td>0.0</td>\n",
       "      <td>0.0</td>\n",
       "    </tr>\n",
       "  </tbody>\n",
       "</table>\n",
       "</div>"
      ],
      "text/plain": [
       "               Mouse_ABCD1_1  Mouse_ABCD1_2  Mouse_ABCD1_3  Mouse_NT_1  \\\n",
       "RP23-271O17.1            0.0            0.0            0.0         0.0   \n",
       "Gm26206                  0.0            0.0            0.0         0.0   \n",
       "Xkr4                     0.0            0.0            0.0         0.0   \n",
       "RP23-317L18.1            0.0            0.0            0.0         0.0   \n",
       "RP23-317L18.4            0.0            0.0            0.0         0.0   \n",
       "\n",
       "               Mouse_NT_2  Mouse_NT_3  \n",
       "RP23-271O17.1         0.0         0.0  \n",
       "Gm26206               0.0         0.0  \n",
       "Xkr4                  0.0         0.0  \n",
       "RP23-317L18.1         0.0         0.0  \n",
       "RP23-317L18.4         0.0         0.0  "
      ]
     },
     "execution_count": 12,
     "metadata": {},
     "output_type": "execute_result"
    }
   ],
   "source": [
    "mouse = pd.read_csv('DESeq2_data/Yamuna/Normalized_counts_Yamuna_mouse.tsv', sep='\\t', index_col=0).round(3)\n",
    "mouse.head()"
   ]
  },
  {
   "cell_type": "code",
   "execution_count": 13,
   "metadata": {},
   "outputs": [],
   "source": [
    "mouse.to_json('./web/mouse_counts.json')"
   ]
  },
  {
   "cell_type": "code",
   "execution_count": null,
   "metadata": {},
   "outputs": [],
   "source": []
  },
  {
   "cell_type": "code",
   "execution_count": null,
   "metadata": {},
   "outputs": [],
   "source": []
  },
  {
   "cell_type": "code",
   "execution_count": null,
   "metadata": {},
   "outputs": [],
   "source": []
  },
  {
   "cell_type": "code",
   "execution_count": null,
   "metadata": {},
   "outputs": [],
   "source": []
  },
  {
   "cell_type": "code",
   "execution_count": null,
   "metadata": {},
   "outputs": [],
   "source": []
  },
  {
   "cell_type": "code",
   "execution_count": null,
   "metadata": {},
   "outputs": [],
   "source": []
  }
 ],
 "metadata": {
  "kernelspec": {
   "display_name": "Python 3",
   "language": "python",
   "name": "python3"
  },
  "language_info": {
   "codemirror_mode": {
    "name": "ipython",
    "version": 3
   },
   "file_extension": ".py",
   "mimetype": "text/x-python",
   "name": "python",
   "nbconvert_exporter": "python",
   "pygments_lexer": "ipython3",
   "version": "3.6.5"
  }
 },
 "nbformat": 4,
 "nbformat_minor": 2
}
